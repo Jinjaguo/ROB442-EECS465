{
 "cells": [
  {
   "cell_type": "markdown",
   "id": "dedfe4962b66f32b",
   "metadata": {
    "collapsed": false,
    "jupyter": {
     "outputs_hidden": false
    }
   },
   "source": [
    "# EECS 465/ROB 422: Introduction to Algorithmic Robotics Fall 2024  \n",
    "# Homework Assignment #2"
   ]
  },
  {
   "cell_type": "code",
   "execution_count": 1,
   "id": "28be567c4dd99f59",
   "metadata": {
    "ExecuteTime": {
     "end_time": "2024-10-03T02:51:17.749210Z",
     "start_time": "2024-10-03T02:51:14.980570Z"
    },
    "collapsed": false,
    "jupyter": {
     "outputs_hidden": false
    }
   },
   "outputs": [],
   "source": [
    "import numpy as np\n",
    "import matplotlib.pyplot as plt\n",
    "import time"
   ]
  },
  {
   "cell_type": "markdown",
   "id": "f03362978e493a7f",
   "metadata": {
    "collapsed": false,
    "jupyter": {
     "outputs_hidden": false
    }
   },
   "source": [
    "## Questions\n",
    "1. (5 points) Is a single point convex? Use the definition of convexity to justify your nswer."
   ]
  },
  {
   "cell_type": "markdown",
   "id": "44805f0dd573859c",
   "metadata": {
    "collapsed": false,
    "jupyter": {
     "outputs_hidden": false
    }
   },
   "source": [
    "2. (10 points) Is the function $f(x) = (|2 − 5x| + 2x + 8e^{(−4x)})−1$ convex? Use the principles of composition and the common convex functions shown in the lecture to justify your answer."
   ]
  },
  {
   "cell_type": "markdown",
   "id": "a32b9b55dff59c4d",
   "metadata": {
    "collapsed": false,
    "jupyter": {
     "outputs_hidden": false
    }
   },
   "source": [
    "Yes. The function $f(x) = (|2 − 5x| + 2x + 8e^{(−4x)})−1$ is convex. \n",
    "To see this, we can use the following steps:\n",
    "1. The function is a composition of two convex functions: $|2 − 5x|$, $2x$, and $8e^{(−4x)}$.\n",
    "2. $|2 − 5x|$ is convex  because it forms a V-shape and $8e^{(−4x)}$ is convex a function because its second derivative is positive.\n",
    "3. $2x$ is a convex function(a line is both convex and concave) and +1 is a constant function.\n",
    "4. Therefore, the function $f(x) = (|2 − 5x| + 2x + 8e^{(−4x)})−1$ is convex."
   ]
  },
  {
   "cell_type": "markdown",
   "id": "5338ab1807667663",
   "metadata": {
    "collapsed": false,
    "jupyter": {
     "outputs_hidden": false
    }
   },
   "source": [
    "Yes, a single point is convex. \n",
    "The definition of convexity states that a set of points is convex if for any two points $p$ and $q$ in the set, the line segment connecting them is also in the set. \n",
    "In other words, the set of points is convex if the line connecting any two points in the set is also in the set. "
   ]
  },
  {
   "cell_type": "code",
   "execution_count": 2,
   "id": "f7a28bfb2f261767",
   "metadata": {
    "ExecuteTime": {
     "end_time": "2024-10-03T02:51:17.960247Z",
     "start_time": "2024-10-03T02:51:17.730167Z"
    },
    "collapsed": false,
    "jupyter": {
     "outputs_hidden": false
    }
   },
   "outputs": [
    {
     "data": {
      "image/png": "[encoded data removed]",
      "text/plain": [
       "<Figure size 640x480 with 1 Axes>"
      ]
     },
     "metadata": {},
     "output_type": "display_data"
    }
   ],
   "source": [
    "# Plotting the function\n",
    "x = np.linspace(-10, 10, 100)\n",
    "y_1 = np.abs(2 - 5*x)\n",
    "plt.plot(x, y_1, label='$|2 - 5x|$')\n",
    "y_2 = 2*x\n",
    "plt.plot(x, y_2, label='$2x$')\n",
    "y_3 = 8*np.exp(-4*x)\n",
    "plt.plot(x, y_3, label='$8e^{-4x}$')\n",
    "y_4 = y_1 + y_2 + y_3 - 1\n",
    "plt.plot(x, y_4, label='$f(x) = (|2 - 5x| + 2x + 8e^{-4x}) - 1$')\n",
    "plt.xlabel('x')\n",
    "plt.ylabel('y')\n",
    "plt.legend();\n"
   ]
  },
  {
   "cell_type": "markdown",
   "id": "a9cb4cc3a144314b",
   "metadata": {
    "collapsed": false,
    "jupyter": {
     "outputs_hidden": false
    }
   },
   "source": [
    "3. (10 points) Rewrite the following optimization problem in standard form $(x = [x1,x2]^T)$:\n",
    "$$\\begin{aligned}\n",
    "\\underset{x}{\\text {maximize}} \\quad &-4x_2 + 3x_1 - 3\\\\\n",
    "\\text{subject to} \\quad &x_2 \\leq -3 \\\\ \n",
    " &-x_1 - 2 \\geq x_1 - 5x_2 \\\\ \n",
    " &x_2 + 6.3 = x_1 \\\\ \n",
    " &-x_2 + 5 + 5x_1 \\leq 4x_1\n",
    "\\end{aligned}$$"
   ]
  },
  {
   "cell_type": "markdown",
   "id": "9673a65ebf51017f",
   "metadata": {
    "collapsed": false,
    "jupyter": {
     "outputs_hidden": false
    }
   },
   "source": [
    "The standard form of an optimization problem is as follows: \n",
    "$$\\begin{aligned}\n",
    "\\underset{x}{\\text {maximize}} \\quad &f(x) \\\\ \n",
    " \\text{subject to} \\quad &g_i(x) \\leq 0, i = 1,2,...,m \\\\ \n",
    " &h_j(x) = 0, j = 1,2,...,p\n",
    "\\end{aligned}$$\n",
    "where $f(x)$ is the objective function, $g_i(x)$ are the inequality constraints, and $h_j(x)$ are the equality constraints.\n",
    "\n",
    "$$\\begin{aligned}\n",
    "\\underset{x}{\\text {maximize}} \\quad &-4x_2 + 3x_1 - 3\\\\\n",
    "\\text{subject to} \\quad &x_2 + 3 \\leq 0 \\\\ \n",
    " &2x_1 - 5x_2 + 2 \\leq 0  \\\\ \n",
    " &-x_1 + x_2 + 6.3 = 0 \\\\ \n",
    " &-x_2 + 5 \\leq 0\n",
    "\\end{aligned}$$"
   ]
  },
  {
   "cell_type": "markdown",
   "id": "f5af23799b229289",
   "metadata": {
    "collapsed": false,
    "jupyter": {
     "outputs_hidden": false
    }
   },
   "source": [
    "4. (15 points) Consider $f(x) = max\\{3x^2 − 2, 2x − 1\\}$. At what value(s) of $x$ will the subdifferential $δf(x)$ contain more than one subgradient? What is $δf (x)$ at each such $x$ value?"
   ]
  },
  {
   "cell_type": "markdown",
   "id": "458e6d0cdfc2c2",
   "metadata": {
    "collapsed": false,
    "jupyter": {
     "outputs_hidden": false
    }
   },
   "source": [
    "The subdifferential $δf(x)$ of $f(x) = max\\{3x^2 − 2, 2x − 1\\}$ is given by:\n",
    "$$\\begin{aligned}\n",
    "δf(x) &= \\begin{cases}\n",
    "6x & \\text{ if } 3x^2 - 2 > 2x - 1 \\\\\n",
    "2 & \\text{ if } 3x^2 - 2 \\leq 2x - 1\n",
    "\\end{cases}\n",
    "\\end{aligned}$$\n",
    "which is:  \n",
    "$$\n",
    "\\begin{aligned}\n",
    "f(x) = \\begin{cases}\n",
    "6x & \\text{ if } x < -\\frac{1}{3} \\\\\n",
    "2 & \\text{ if } -\\frac{1}{3} \\leq x \\leq 1 \\\\\n",
    "6x & \\text{ if } x > 1\n",
    "\\end{cases}\n",
    "\\end{aligned}\n",
    "$$\n",
    "The subdifferential $δf(x)$ will contain more than one subgradient at $x = -\\frac{1}{3}$ and $x = 1$.\n",
    "At the points $x = -\\frac{1}{3}$ and $x = 1$ the two functions are equal, meaning the maximum is achieved by both functions at the same time.  \n",
    "\n",
    "1. At $x = -\\frac{1}{3}$, the subdifferential $δf(x)$ is $g(1) = 6x = 6 \\cdot (-\\frac{1}{3}) = -2$ and $g(2) = 2$, so the subgradient is $[-2, 2]$\n",
    "2. At $x = 1$, the subdifferential $δf(x)$ is $g(2) = 6x = 6 \\cdot (1) = 6$, and $g(2) = 2$ so the subgradient is $[2, 6]$"
   ]
  },
  {
   "cell_type": "code",
   "execution_count": 3,
   "id": "e9f82bff20b50452",
   "metadata": {
    "ExecuteTime": {
     "end_time": "2024-10-03T02:51:18.267521Z",
     "start_time": "2024-10-03T02:51:17.964578Z"
    },
    "collapsed": false,
    "jupyter": {
     "outputs_hidden": false
    }
   },
   "outputs": [
    {
     "data": {
      "image/png": "[encoded data removed]",
      "text/plain": [
       "<Figure size 640x480 with 1 Axes>"
      ]
     },
     "metadata": {},
     "output_type": "display_data"
    }
   ],
   "source": [
    "# Define the functions\n",
    "x = np.linspace(-3, 3, 100)\n",
    "y = np.maximum(3*x**2 - 2, 2*x - 1)\n",
    "# Intersection points\n",
    "points = np.array([[-1/3, -5/3],[1, 1]])\n",
    "# Slopes at the intersection points\n",
    "g1_prime_at_minus_1_3 = 6*(-1/3)\n",
    "g2_prime_at_minus_1_3 = 2\n",
    "g1_prime_at_1 = 6*1\n",
    "g2_prime_at_1 = 2\n",
    "\n",
    "# Define tangent lines at x = -1/3 and x = 1\n",
    "def tangent_line(x, x0, y0, slope):\n",
    "    return slope * (x - x0) + y0\n",
    "# Create the plot\n",
    "plt.plot(x, y, label='$f(x) = max(3x^2 - 2, 2x - 1)$')\n",
    "plt.xlabel('x')\n",
    "plt.ylabel('y')\n",
    "plt.legend()\n",
    "# Plot the intersection points\n",
    "plt.plot(points[:,0], points[:,1], 'o', label='Equal points')\n",
    "\n",
    "# Plot tangent lines at x = -1/3\n",
    "x_tangent = np.linspace(-2, 1, 100)\n",
    "plt.plot(x_tangent, tangent_line(x_tangent, -1/3, -5/3, g1_prime_at_minus_1_3), '--', label=\"Tangent at $x = -1/3$ (g1)\")\n",
    "plt.plot(x_tangent, tangent_line(x_tangent, -1/3, -5/3, g2_prime_at_minus_1_3), '--', label=\"Tangent at $x = -1/3$ (g2)\")\n",
    "# Plot tangent lines at x = 1\n",
    "x_tangent = np.linspace(0, 2, 100)\n",
    "plt.plot(x_tangent, tangent_line(x_tangent, 1, 1, g1_prime_at_1), '--', label=\"Tangent at $x = 1$ (g1)\")\n",
    "plt.plot(x_tangent, tangent_line(x_tangent, 1, 1, g2_prime_at_1), '--', label=\"Tangent at $x = 1$ (g2)\")\n",
    "\n",
    "# Show the plot\n",
    "plt.legend()\n",
    "plt.show()\n",
    "\n"
   ]
  },
  {
   "cell_type": "markdown",
   "id": "7cf2e542f9f2ffad",
   "metadata": {
    "collapsed": false,
    "jupyter": {
     "outputs_hidden": false
    }
   },
   "source": [
    "5. A linear program is defined as:\n",
    "$$\\begin{aligned}\n",
    "\\underset{x}{\\text {maximize}} \\quad &c^Tx \\\\ \n",
    "\\text{subject to} \\quad &Gx \\leq h \\\\ \n",
    "&Ax = b \\\\ \n",
    "\\end{aligned}$$\n",
    "\n",
    "a. (10 points) Write down the Lagrange dual function for this problem and define the variables.\n",
    "b. (5 points) Write down the dual problem for this $LP$.\n",
    "c. (5 points) Suppose you solved the dual problem and obtained an optimal value $d_*$. Assuming the primal is feasible and bounded, how does $d_*$ relate to the solution of the primal problem $p_*$? Explain why."
   ]
  },
  {
   "cell_type": "markdown",
   "id": "f04d968b9aacf991",
   "metadata": {
    "collapsed": false,
    "jupyter": {
     "outputs_hidden": false
    }
   },
   "source": [
    "a. First we apply lagrange multipliers in the primal problem \n",
    "$$L(x, \\lambda, \\gamma) = c^Tx - \\lambda (Gx-h) + \\gamma (Ax-b) $$\n",
    "where $\\lambda$ and $\\gamma$ are the Lagrange multipliers.\n",
    "Then we get the lagrange dual function:\n",
    "$$g(\\lambda, \\gamma) = \\underset{x \\in D}{\\text{inf}} L(x, \\lambda, \\gamma)$$\n",
    "$$  =\\underset{x \\in D}{\\text{inf}} (c^Tx - \\lambda (Gx-h) + \\gamma (Ax-b)) $$\n",
    "\n",
    "b. The dual problem for this $LP$ is:\n",
    "$$\\begin{aligned}\n",
    "\\underset{\\lambda, \\gamma}{\\text {minimize}} \\quad &g(\\lambda, \\gamma) \\\\ \n",
    "\\text{subject to} \\quad &\\lambda \\geq 0 \\\\ \n",
    "\\end{aligned}$$\n",
    "\n",
    "c. $d_* \\leq p_*$ which is the optimal value of the dual problem is less than or equal to the optimal value of the primal problem. \n",
    "This is because the dual problem is a minimization problem, and the optimal value of the dual problem is the minimum of the objective function $g(\\lambda, \\gamma)$ over all feasible values of $\\lambda$ and $\\gamma$. Therefore, if the primal problem is feasible and bounded, then the dual problem is also feasible and bounded, and the optimal value of the dual problem is less than or equal to the optimal value of the primal problem.\n",
    "\n",
    "$$A(x) = \\underset{\\lambda, \\gamma}{\\text{max}} L(x, \\lambda, \\gamma) \\geq L(x, \\lambda, \\gamma) \\geq \\underset{x}{\\text{min}} L(x,\\lambda, \\gamma) = B(\\lambda, \\gamma) $$\n",
    "$$A(x) \\geq min A(x) \\geq maxB(\\lambda, \\gamma) \\geq B(\\lambda, \\gamma) $$\n",
    "$$A(x) \\geq p_* \\geq d_* \\geq B(\\lambda, \\gamma) $$\n",
    "\n",
    "Therefore, $p_* \\geq d_*$"
   ]
  },
  {
   "cell_type": "markdown",
   "id": "325ec47bcaaffb44",
   "metadata": {
    "collapsed": false,
    "jupyter": {
     "outputs_hidden": false
    }
   },
   "source": [
    "## Implementation\n",
    "### 1. \n",
    "Descent Methods: Here you will implement two descent methods and compare them.\n",
    "a. (5 points) Implement backtracking line search for functions of the form $f(x) : R → R$. Set $α = 0.1$ and $β = 0.6$. Submit your code as backtracking.py in your zip file."
   ]
  },
  {
   "cell_type": "code",
   "execution_count": 4,
   "id": "b733120e08067c1e",
   "metadata": {
    "ExecuteTime": {
     "end_time": "2024-10-03T02:51:18.279141Z",
     "start_time": "2024-10-03T02:51:18.272702Z"
    },
    "collapsed": false,
    "jupyter": {
     "outputs_hidden": false
    }
   },
   "outputs": [],
   "source": [
    "### backtracking.py\n",
    "\n",
    "# a. Implement backtracking line search for functions of the form f(x) : R → R. Set\n",
    "# α = 0.1 and β = 0.6. Submit your code as backtracking.py in your zip file.\n",
    "\n",
    "def backtracking_line_search(f, grad_f, x, delta_x, alpha=0.1, beta=0.6):\n",
    "    \n",
    "    t = 1 #initialize step size\n",
    "    \n",
    "    f_x = f(x)\n",
    "    grad_f_x = grad_f(x)\n",
    "    \n",
    "    while f(x + t*delta_x) > f_x + alpha*t*np.dot(grad_f_x.T, delta_x):\n",
    "        t *= beta # update step size\n",
    "    return t"
   ]
  },
  {
   "cell_type": "markdown",
   "id": "fe306045b1aab48c",
   "metadata": {
    "collapsed": false,
    "jupyter": {
     "outputs_hidden": false
    }
   },
   "source": [
    "b. Implement the Gradient Descent algorithm. Use your backtracking line search implementation (with the same α and β as above) to compute the step length.  Use ε = 0.0001.\n",
    "  Submit your code as gradientdescent.py in your zip file."
   ]
  },
  {
   "cell_type": "code",
   "execution_count": 5,
   "id": "a4ceabb9e57f67e5",
   "metadata": {
    "ExecuteTime": {
     "end_time": "2024-10-03T02:51:18.279451Z",
     "start_time": "2024-10-03T02:51:18.275883Z"
    },
    "collapsed": false,
    "jupyter": {
     "outputs_hidden": false
    }
   },
   "outputs": [],
   "source": [
    "### gradientdescent.py\n",
    "\n",
    "# Use your backtracking line search implementation (with the same α and β as above) to compute the step length.  Use ε = 0.0001.\n",
    "\n",
    "def gradient_descent(f, grad_f, x_init, alpha=0.1, beta=0.6, epsilon=0.0001, max_iter=1000):\n",
    "    x = x_init\n",
    "    points = [x]\n",
    "    for _ in range(max_iter):\n",
    "        grad = grad_f(x)\n",
    "        delta_x = -grad  # negative gradient direction\n",
    "        \n",
    "        # using backtracking line search to compute step length\n",
    "        t = backtracking_line_search(f, grad_f, x, delta_x, alpha, beta)\n",
    "        \n",
    "        # update x\n",
    "        x = x + t * delta_x\n",
    "        points.append(x)\n",
    "        \n",
    "        # check stopping condition\n",
    "        if np.linalg.norm(grad) < epsilon:\n",
    "            break\n",
    "    \n",
    "    return x, points"
   ]
  },
  {
   "cell_type": "markdown",
   "id": "ddf09196433f82cc",
   "metadata": {
    "collapsed": false,
    "jupyter": {
     "outputs_hidden": false
    }
   },
   "source": [
    "c. Implement the Newton’s Method algorithm. Use your backtracking line search implementation (with the same α and β as above) to compute the step length. Use ε = 0.0001.  \n",
    "Submit your code as newtonsmethod.py in your zip file."
   ]
  },
  {
   "cell_type": "code",
   "execution_count": 6,
   "id": "d0e71292f7dbcc9b",
   "metadata": {
    "ExecuteTime": {
     "end_time": "2024-10-03T02:51:18.293319Z",
     "start_time": "2024-10-03T02:51:18.281574Z"
    },
    "collapsed": false,
    "jupyter": {
     "outputs_hidden": false
    }
   },
   "outputs": [],
   "source": [
    "### newtonsmethod.py\n",
    "\n",
    "# Use your backtracking line search implementation (with the same α and β as above) to compute the step length. Use ε = 0.0001.\n",
    "\n",
    "def newton_method(f, grad_f, hessian_f, x_init, alpha=0.1, beta=0.6, epsilon=0.0001, max_iter=1000):\n",
    "    x = x_init\n",
    "    points = [x]\n",
    "    for _ in range(max_iter):\n",
    "        grad = grad_f(x)\n",
    "        hess = hessian_f(x)\n",
    "        hess = hess + 1e-6\n",
    "        delta_x = -grad/ hess  # negative Newton direction\n",
    "        \n",
    "        # using backtracking line search to compute step length\n",
    "        t = backtracking_line_search(f, grad_f, x, delta_x, alpha, beta)\n",
    "        \n",
    "        # update x\n",
    "        x = x + t * delta_x\n",
    "        points.append(x)\n",
    "        \n",
    "        # check stopping condition\n",
    "        if np.linalg.norm(grad) < epsilon:\n",
    "            break\n",
    "    \n",
    "    return x, points"
   ]
  },
  {
   "cell_type": "markdown",
   "id": "155a01e22a3989b6",
   "metadata": {
    "collapsed": false,
    "jupyter": {
     "outputs_hidden": false
    }
   },
   "source": [
    "d. Run Gradient Descent and Newton’s method on the following problem, starting at $ x^{(0)} = 5 $:\n",
    "$$ \\underset{x}{\\text {minimize}} f(x) = e^{(0.5x+1)} + e^{(-0.5x-0.5)} + 5x $$\n",
    "Generate the following plots (this can be done using the matplotlib library). Include these plots in your pdf and the code to generate them as plot descents.py in your zip. \n",
    "Remember to label the axes.\n",
    "i. A plot showing the objective function over the interval [−10, 10] (black) and the sequence of points generated by Gradient Descent (red) and Newton’s Method (magenta).\n",
    "ii. A plot showing the $f(x^{(i)})$ vs. i for Gradient Descent (red) and Newton’s Method (magenta)."
   ]
  },
  {
   "cell_type": "code",
   "execution_count": 7,
   "id": "9c352cced46cedc6",
   "metadata": {
    "ExecuteTime": {
     "end_time": "2024-10-03T02:51:18.809870Z",
     "start_time": "2024-10-03T02:51:18.294884Z"
    },
    "collapsed": false,
    "jupyter": {
     "outputs_hidden": false
    }
   },
   "outputs": [
    {
     "data": {
      "image/png": "[encoded data removed]",
      "text/plain": [
       "<Figure size 640x480 with 1 Axes>"
      ]
     },
     "metadata": {},
     "output_type": "display_data"
    }
   ],
   "source": [
    "### plotdescents.py\n",
    "\n",
    "input_x = np.linspace(-10, 10, 100)\n",
    "\n",
    "def f(x):\n",
    "    return np.exp(0.5*x + 1) + np.exp(-0.5*x - 0.5) + 5*x\n",
    "def grad_f(x):\n",
    "    return 0.5 * np.exp(0.5*x + 1) - 0.5 *np.exp(-0.5*x - 0.5) + 5\n",
    "def hessian_f(x):\n",
    "    return 0.25 * np.exp(0.5*x + 1) + 0.25 * np.exp(-0.5*x - 0.5)\n",
    "\n",
    "output = []\n",
    "for x in input_x:\n",
    "    output.append(f(x))\n",
    "plt.plot(input_x, output, label='$f(x) = e^{(0.5x+1)} + e^{(-0.5x-0.5)} + 5x$')\n",
    "   \n",
    "# Gradient Descent\n",
    "x_init = 5\n",
    "x_opt, points = gradient_descent(f, grad_f, x_init, alpha=0.1, beta=0.6, epsilon=0.0001, max_iter=1000)\n",
    "f_opt = f(x_opt)\n",
    "points_y = [f(x) for x in points]\n",
    "\n",
    "# Newton's Method\n",
    "x_opt_newton, points_newton = newton_method(f, grad_f, hessian_f, x_init, alpha=0.1, beta=0.6, epsilon=0.0001, max_iter=1000)\n",
    "f_opt_newton = f(x_opt_newton)\n",
    "points_newton_y = [f(x) for x in points_newton]\n",
    "\n",
    "plt.plot(points, points_y, marker='o', color='red', linestyle='-', label='Descent Path')\n",
    "plt.plot(points_newton, points_newton_y, marker='o', color='magenta', linestyle='-', label='Newton\\'s Method')\n",
    "plt.legend()\n",
    "plt.xlabel('x')\n",
    "plt.ylabel('f(x)')\n",
    "plt.title('Gradient Descent and Newton\\'s Method')\n",
    "plt.show()"
   ]
  },
  {
   "cell_type": "code",
   "execution_count": 8,
   "id": "8bcaeb4ddf340525",
   "metadata": {
    "ExecuteTime": {
     "end_time": "2024-10-03T02:51:18.965537Z",
     "start_time": "2024-10-03T02:51:18.797052Z"
    },
    "collapsed": false,
    "jupyter": {
     "outputs_hidden": false
    }
   },
   "outputs": [
    {
     "data": {
      "image/png": "[encoded data removed]",
      "text/plain": [
       "<Figure size 640x480 with 1 Axes>"
      ]
     },
     "metadata": {},
     "output_type": "display_data"
    }
   ],
   "source": [
    "plt.plot(range(len(points_y)), points_y, marker='o', color='red', linestyle='-', label='Gradient Descent')\n",
    "plt.plot(range(len(points_newton_y)), points_newton_y, marker='o', color='magenta', linestyle='-', label='Newton\\'s Method')\n",
    "plt.legend()\n",
    "plt.xlabel('Iteration')\n",
    "plt.ylabel('f(x)')\n",
    "plt.title('Gradient Descent and Newton\\'s Method')\n",
    "plt.show()"
   ]
  },
  {
   "cell_type": "markdown",
   "id": "d3e63a8358bfa15e",
   "metadata": {
    "collapsed": false,
    "jupyter": {
     "outputs_hidden": false
    }
   },
   "source": [
    "It seems that **Newton's Method** converges faster than Gradient Descent.  \n",
    "1. The function given in the question has few input variables. \n",
    "2. The function is continuous and the second-order differential (Hessian matrix) is very easy to obtain.  \n",
    "3. Using quadratic approximation to find the local minimum of the objective function, the descent direction and step size can be selected more accurately, reducing unnecessary iterations\n",
    "In this case, Newton's method is very effective.  "
   ]
  },
  {
   "cell_type": "markdown",
   "id": "735b4b0bbe7bf7ee",
   "metadata": {
    "collapsed": false,
    "jupyter": {
     "outputs_hidden": false
    }
   },
   "source": [
    "# 2. \n",
    "Stochastic Gradient Descent: Open the SGDtest.py file included in HW2files.zip. Here you’ll see that a function fsum(x) has been defined as a sum of functions $fi(x,i)$ for  $i = 1, ..., n$ Functions. \n",
    "The first and second derivatives of fsum and fi are also given."
   ]
  },
  {
   "cell_type": "markdown",
   "id": "a7bfd9b1d7ac699f",
   "metadata": {
    "collapsed": false,
    "jupyter": {
     "outputs_hidden": false
    }
   },
   "source": [
    "a. (10 points) Implement the Stochastic Gradient Descent (SGD) algorithm as a separate file sgd.py(submit this in your zip file).   \n",
    "You can call your algorithm from SGDtest.py to test it. Set the parameters in the following way:\n",
    "• Set the step size t = 1. It’s OK to use this large step size for this problem because $∇fi$ is very small.\n",
    "• Run the algorithm for 1000 iterations (this is the termination condition).\n",
    "• Choose one random $∇fi$ per iteration.\n",
    "• Start at $x^{(0)} = −5$."
   ]
  },
  {
   "cell_type": "code",
   "execution_count": 17,
   "id": "d86570da27fd1759",
   "metadata": {
    "ExecuteTime": {
     "end_time": "2024-10-03T02:51:37.275876Z",
     "start_time": "2024-10-03T02:51:36.978218Z"
    },
    "collapsed": false,
    "jupyter": {
     "outputs_hidden": false
    }
   },
   "outputs": [
    {
     "name": "stdout",
     "output_type": "stream",
     "text": [
      "Time:  0.024916887283325195 for batch size 1\n"
     ]
    },
    {
     "data": {
      "image/png": "[encoded data removed]",
      "text/plain": [
       "<Figure size 640x480 with 1 Axes>"
      ]
     },
     "metadata": {},
     "output_type": "display_data"
    }
   ],
   "source": [
    "### sgd.py\n",
    "\n",
    "from SGDtest import fi, fsum, fiprime, fsumprime, fiprimeprime,fsumprimeprime\n",
    "maxi = 10000\n",
    "\n",
    "def sgd(x_init, fiprime, t=1, maxi=10000, batch_size=16, iterations=1000):\n",
    "    x = x_init\n",
    "    points = [x]\n",
    "    for i in range(iterations):\n",
    "        # choose one random ∇fi per iteration\n",
    "        indices = np.random.randint(1, maxi, size=batch_size)\n",
    "        grads = [fiprime(x, j) for j in indices]\n",
    "        grad = np.mean(grads, axis=0)\n",
    "        delta_x = -t * grad  # negative gradient direction\n",
    "        \n",
    "        # update x\n",
    "        x = x + delta_x\n",
    "        points.append(x)\n",
    "        \n",
    "        # check stopping condition\n",
    "        if np.linalg.norm(grads) < 0.0001:\n",
    "            break\n",
    "    \n",
    "    return x, points\n",
    "start = time.time()\n",
    "batch_size = 1\n",
    "x, points = sgd(-5, fiprime, t=1, maxi=maxi, batch_size= batch_size, iterations=1000)\n",
    "end = time.time()\n",
    "print(\"Time: \", end - start, 'for batch size', batch_size)\n",
    "\n",
    "# show the plot of fsum(x) vs. x\n",
    "xvals = np.arange(-10, 10, 0.01)  # Grid of 0.01 spacing from -10 to 10\n",
    "yvals = fsum(xvals)  # Evaluate function on xvals\n",
    "plt.figure()\n",
    "plt.plot(xvals, yvals)  # Create line plot with yvals against xvals\n",
    "plt.xlabel('x')\n",
    "plt.ylabel('fsum(x)')\n",
    "plt.title('fsum(x) vs. x')\n",
    "plt.show()"
   ]
  },
  {
   "cell_type": "markdown",
   "id": "15d5ad7053803016",
   "metadata": {
    "collapsed": false,
    "jupyter": {
     "outputs_hidden": false
    }
   },
   "source": [
    "b. (10 points) Create a plot showing $fsum(x^{(i)})$ vs. i and insert it in the pdf and include the code to generate the plot as plot sgd.py in your zip. \n",
    "Note that you should not evaluate fsum within the SGD loop because this will be very slow. \n",
    "Instead, store the $x^{(i)}s$ you produce and evaluate $fsum$ after you’re done running the algorithm. \n",
    "Is $fsum(x{(i)})$ always decreasing? Explain why or why not."
   ]
  },
  {
   "cell_type": "code",
   "execution_count": 10,
   "id": "e70bdde7ef86d4de",
   "metadata": {
    "ExecuteTime": {
     "end_time": "2024-10-03T02:51:28.695278Z",
     "start_time": "2024-10-03T02:51:20.118762Z"
    },
    "collapsed": false,
    "jupyter": {
     "outputs_hidden": false
    }
   },
   "outputs": [
    {
     "name": "stdout",
     "output_type": "stream",
     "text": [
      "the optimum is at: 6.697615068095549 with fsum(x) = -1404.821629237732\n"
     ]
    },
    {
     "data": {
      "image/png": "[encoded data removed]",
      "text/plain": [
       "<Figure size 640x480 with 1 Axes>"
      ]
     },
     "metadata": {},
     "output_type": "display_data"
    }
   ],
   "source": [
    "# plot fsum(x) vs. i\n",
    "points_y = [fsum(x) for x in points]\n",
    "print(\"the optimum is at:\",x, \"with fsum(x) =\", fsum(x))\n",
    "plt.plot(range(len(points_y)), points_y, marker='o', color='blue', linestyle='-', label='$fsum(x^{(i)})$', markevery=25)\n",
    "\n",
    "plt.legend()\n",
    "plt.xlabel('Iteration')\n",
    "plt.ylabel('$fsum(x^{(i)})$')\n",
    "plt.title('Stochastic Gradient Descent')\n",
    "plt.show()"
   ]
  },
  {
   "cell_type": "markdown",
   "id": "2b18739a85dae8e3",
   "metadata": {
    "collapsed": false,
    "jupyter": {
     "outputs_hidden": false
    }
   },
   "source": [
    "The $fsum(x^{(i)})$ is not always decreasing. Especially for large steps size like t = 1. \n",
    "In the figure，we can see that the $fsum(x^{(i)})$ increases in approximately 700-th iteration, and then decrease. It shows a kind of fluctuation.\n",
    "This is because the algorithm randomly selects one of the gradient of the function to approximate the entire gradient at each iteration, which will cause the $fsum(x^{(i)})$ to fluctuate."
   ]
  },
  {
   "cell_type": "markdown",
   "id": "f00d367130be9e58",
   "metadata": {
    "collapsed": false,
    "jupyter": {
     "outputs_hidden": false
    }
   },
   "source": [
    "c. (10 points) Run SGD 30 times and compute the mean and variance of the resulting $fsum(x^∗)$.\n",
    "Run SGD with 750 iterations 30 times and compare the resulting mean and variance to what you got with 1000 iterations. Explain the results."
   ]
  },
  {
   "cell_type": "code",
   "execution_count": 11,
   "id": "e1a214df7a73fb4e",
   "metadata": {
    "ExecuteTime": {
     "end_time": "2024-10-03T02:51:30.285710Z",
     "start_time": "2024-10-03T02:51:28.704149Z"
    },
    "collapsed": false,
    "jupyter": {
     "outputs_hidden": false
    }
   },
   "outputs": [
    {
     "name": "stdout",
     "output_type": "stream",
     "text": [
      "The Variance with 1000 iterations:  2574.186822467361\n",
      "The Mean with 1000 iterations:  -1379.9352323645141\n",
      "The Variance with 750 iterations:  877.7738791074528\n",
      "The Mean with 750 iterations:  -1393.6513065530203\n"
     ]
    }
   ],
   "source": [
    "# Run SGD with 1000 iterations 30 times \n",
    "maxi = 10000\n",
    "batch_size = 1\n",
    "opt_values = []\n",
    "for _ in range(30):\n",
    "    x, points = sgd(-5, fiprime, t=1, maxi=maxi, batch_size= batch_size, iterations=1000)\n",
    "    opt_values.append(fsum(x))\n",
    "var_1000 = np.var(opt_values)\n",
    "print(\"The Variance with 1000 iterations: \", var_1000)\n",
    "mean_1000 = np.mean(opt_values)\n",
    "print(\"The Mean with 1000 iterations: \", mean_1000)\n",
    "\n",
    "# Run SGD with 750 iterations 30 times \n",
    "opt_values_750 = []\n",
    "for _ in range(30):\n",
    "    x, points = sgd(-5, fiprime, t=1, maxi=maxi, batch_size= batch_size, iterations=750)\n",
    "    opt_values_750.append(fsum(x))\n",
    "var_750 = np.var(opt_values_750)\n",
    "print(\"The Variance with 750 iterations: \", var_750)\n",
    "mean_750 = np.mean(opt_values_750)\n",
    "print(\"The Mean with 750 iterations: \", mean_750)"
   ]
  },
  {
   "cell_type": "markdown",
   "id": "86e95b2587fa9963",
   "metadata": {
    "collapsed": false,
    "jupyter": {
     "outputs_hidden": false
    }
   },
   "source": [
    "In the plot of problem b, we can see that the $fsum(x^{(i)})$ is convergent to a minimum value after approximately 600 iterations. \n",
    "so the results with 1000 iterations has not significant difference with 750 iterations. "
   ]
  },
  {
   "cell_type": "markdown",
   "id": "8c5ecb7a7a38826e",
   "metadata": {
    "collapsed": false,
    "jupyter": {
     "outputs_hidden": false
    }
   },
   "source": [
    "d. Now we will compare SGD with 1000 iterations to Gradient Descent and Newton’s Method in terms of computation time. Use $x^{(0)} = −5$ and $ε = 0.0001$ for both Gradient Descent and Newton’s Method.   \n",
    "To time how long an algorithm takes, see the timing code in SGDtest.py.\n",
    "i. (10 points) Put the runtimes you get for the three algorithms in your pdf. Explain your results, i.e. why are you getting the order of times you get here.\n",
    "ii. (5 points) Compare the three algorithms in terms of $fsum(x^∗)$. Which is the best and which is the worst? Explain why and explain if the difference is significant."
   ]
  },
  {
   "cell_type": "code",
   "execution_count": 12,
   "id": "c50bdc0f0ca8d281",
   "metadata": {
    "ExecuteTime": {
     "end_time": "2024-10-03T02:51:36.275735Z",
     "start_time": "2024-10-03T02:51:30.287766Z"
    },
    "collapsed": false,
    "jupyter": {
     "outputs_hidden": false
    }
   },
   "outputs": [
    {
     "name": "stdout",
     "output_type": "stream",
     "text": [
      "Time for Gradient Descent:  5.591187238693237\n",
      "Time for Newton's Method:  0.33180904388427734\n",
      "Time for SGD:  0.01138615608215332\n",
      "-------------------------------------------------\n",
      "The optimal value of fsum(x) for Gradient Descent is: -1405.2670409900593 at 6.776993302639244\n",
      "The optimal value of fsum(x) for Newton's Method is: -1405.2670409900618 at 6.776993532883339\n",
      "The optimal value of fsum(x) for SGD is: -1402.732452887678 at 6.962853484826434\n"
     ]
    }
   ],
   "source": [
    "maxi = 10000  # this is the number of functions\n",
    "x_init = -5\n",
    "\n",
    "# Gradient Descent\n",
    "start_gd = time.time()\n",
    "x_opt, points = gradient_descent(fsum, fsumprime, x_init, alpha=0.3, beta=0.8, epsilon=0.0001, max_iter=1000)\n",
    "end_gd = time.time()\n",
    "\n",
    "# Newton's Method\n",
    "start_NM = time.time()\n",
    "x_opt_newton, points_newton = newton_method(fsum, fsumprime, fsumprimeprime, x_init, alpha=0.3, beta=0.8, epsilon=0.0001, max_iter=1000)\n",
    "end_NM = time.time()\n",
    "\n",
    "# SGD\n",
    "start_SGD = time.time()\n",
    "batch_size = 1\n",
    "x, sgd_points = sgd(x_init, fiprime, t=1, maxi=maxi, batch_size= batch_size, iterations=1000)\n",
    "end_SGD = time.time()\n",
    "\n",
    "print(\"Time for Gradient Descent: \", end_gd - start_gd)\n",
    "print(\"Time for Newton's Method: \", end_NM - start_NM)\n",
    "print(\"Time for SGD: \", end_SGD - start_SGD)\n",
    "print('-------------------------------------------------')\n",
    "print(\"The optimal value of fsum(x) for Gradient Descent is:\", fsum(x_opt), 'at', x_opt)\n",
    "print(\"The optimal value of fsum(x) for Newton's Method is:\", fsum(x_opt_newton), 'at', x_opt_newton)\n",
    "print(\"The optimal value of fsum(x) for SGD is:\", fsum(x), 'at', x)"
   ]
  },
  {
   "cell_type": "markdown",
   "id": "5f1fc687815aa072",
   "metadata": {
    "collapsed": false,
    "jupyter": {
     "outputs_hidden": false
    }
   },
   "source": [
    "**The results show that SGD is much faster than Gradient Descent and Newton's Method**  \n",
    "The SGD method randomly selects a part of the gradient of the function to approximate the entire gradient at each iteration, which greatly reduces the time consumption of calculation. Especially when n is relatively large (the number of functions in this question is 10000)    \n",
    " Newton's Method converges quickly to the optimal solution because it uses both the gradient and the Hessian  of the objective function to guide its search.Each iteration is computationally expensive, but the method requires fewer iterations to find the optimum, which results in a moderate total runtime.    \n",
    " Gradient descent updates the solution in the direction of the negative gradient. Although each iteration is relatively simple, it takes many iterations to converge.  \n",
    "\n",
    "**The optimal value of $fsum(x)$ for Newton's Method is grater than that of Gradient Descent and SGD.**  \n",
    "Newton's Method is the best in terms of both accuracy and runtime. It converges to the optimal value very quickly and achieves an objective value very close to that of Gradient Descent.  \n",
    "Gradient Descent finds a solution very close to Newton's Method, but takes significantly longer to converge due to its reliance on first-order information alone.    \n",
    "SGD has a large error. This inaccuracy is mainly caused by choosing too small a gradient sample (in this case batch size = 1), which results in a large variance in the update.  "
   ]
  },
  {
   "cell_type": "markdown",
   "id": "e9dd833ec3f0eb6a",
   "metadata": {
    "collapsed": false,
    "jupyter": {
     "outputs_hidden": false
    }
   },
   "source": [
    "3. Implementing the Barrier Method: Before you start writing code, you will need to figure out some of the equations you will need.   \n",
    "The solutions to the following should be included in the pdf you submit:"
   ]
  },
  {
   "cell_type": "markdown",
   "id": "ec4fbf8f9b285e78",
   "metadata": {
    "collapsed": false,
    "jupyter": {
     "outputs_hidden": false
    }
   },
   "source": [
    "a. (5 points) Write down the objective function used in the centering problem of the log barrier method (in the general case). Define the variables used in this function.\n",
    "* the original problem:\n",
    "$$\\begin{aligned}\n",
    "\\underset{x}{\\text {maximize}} \\quad &f_0(x) \\\\ \n",
    "\\text{subject to} \\quad &f_i(x) \\leq 0, i = 1,...,m \\\\ \n",
    "\\quad &Ax = b \\\\ \n",
    "\\end{aligned}$$\n",
    "\n",
    "Objective function:\n",
    "$f(x)$ is the objective function to be maximized.\n",
    "Inequality constraints:\n",
    "$f_i(x) \\leq 0, i = 1,...,m$ are the inequality constraints.\n",
    "Equality constraints:\n",
    "$Ax = b$ is a linear equality constraint.\n",
    "\n",
    "* the centering problem of the log barrier method:\n",
    "$$\\begin{aligned}\n",
    "\\underset{x}{\\text {maximize}} \\quad &f_0(x) + \\sum_{i=1}^m \\ -\\frac{1}{t} \\log(-f_i(x)) \\\\ \n",
    "\\text{subject to} \\quad &Ax = b \\\\\\\\  \n",
    "\\end{aligned}$$\n",
    "\n",
    "we set $\\phi(x) = -\\frac{1}{t} \\log(-f_i(x))$ and we will call it as the log barrier function.\n",
    "Parameter:\n",
    "$t$: controls the penalty of the barrier function.\n",
    "New Objective function:\n",
    "$f_0(x) + \\sum_{i=1}^m \\ -\\frac{1}{t} \\log(-f_i(x))$ convert an inequality constraint into an equality constraint for a smooth function optimization problem"
   ]
  },
  {
   "cell_type": "markdown",
   "id": "2b9976d4f1e8c850",
   "metadata": {
    "collapsed": false,
    "jupyter": {
     "outputs_hidden": false
    }
   },
   "source": [
    "b. (5 points) Write down the function for (a) in the case of a linear program. Define the variables used in this function.\n",
    "$$\\begin{aligned}\n",
    "\\underset{x}{\\text {maximize}} \\quad &c^Tx \\\\ \n",
    "\\text{subject to} \\quad &Gx \\leq h \\\\ \n",
    "&Ax = b \\\\ \n",
    "\\end{aligned}$$\n",
    "\n",
    "$$\\begin{aligned}\n",
    "\\underset{x}{\\text {maximize}} \\quad &t c^Tx - \\sum_{i=1}^m \\log(h_i - g_i^Tx) \\\\ \n",
    "\\text{subject to} \\quad &Ax = b \\\\\\\\  \n",
    "\\end{aligned}$$\n",
    "\n",
    "Objective function:\n",
    "$Gx \\leq h $ is a linear function that needs to be maximized.\n",
    "Inequality constraints:\n",
    "$Gx \\leq h $, where $G$ is an $m×n$ matrix,\n",
    "$h$ is an m-dimensional vector, representing m inequality constraints.\n",
    "Equality constraints: $Ax=b$, where\n",
    "$A$ is a $p×n$ matrix,\n",
    "$b$ is a p-dimensional vector.\n",
    "Constructed objective function:\n",
    "$t c^Tx - \\sum_{i=1}^m \\log(h_i - g_i^Tx)$\n",
    "$t$ is a positive parameter used to adjust the weight of the linear objective. As the iteration progresses, $t$ increases.\n",
    "$\\sum_{i=1}^m \\log(h_i - g_i^Tx)$ is the log barrier function."
   ]
  },
  {
   "cell_type": "markdown",
   "id": "36e6ae45ccb47bd7",
   "metadata": {
    "collapsed": false,
    "jupyter": {
     "outputs_hidden": false
    }
   },
   "source": [
    "c. (5 points) Write down the derivative of the function for (b).\n",
    "$$\\frac{\\delta \\text{(object function)}}{\\delta x} =\\quad t c - \\sum_{i=1}^m \\frac{1}{(h_i - g_i^T x)}$$\n"
   ]
  },
  {
   "cell_type": "markdown",
   "id": "fb025c737bde908b",
   "metadata": {
    "collapsed": false,
    "jupyter": {
     "outputs_hidden": false
    }
   },
   "source": [
    "d. (5 points) Write down the second derivative of the function for (b).\n",
    "$$ \\quad  \\sum_{i=1}^m  \\frac{g_i^T g_i}{(h_i - g_i^T x)^2} $$"
   ]
  },
  {
   "cell_type": "markdown",
   "id": "d9ef90fd8942001f",
   "metadata": {
    "collapsed": false,
    "jupyter": {
     "outputs_hidden": false
    }
   },
   "source": [
    "e. (5 points) Write down the duality gap for the barrier method with log barrier functions. \n",
    "It should be in terms of numplanes, the number of hyperplanes, and t, the optimization “force” increment.\n",
    "\n",
    "The duality gap for the barrier method with log barrier functions is:  \n",
    "\n",
    "$$\\text{gap} = \\frac{\\text{numplanes}}{t}$$"
   ]
  },
  {
   "cell_type": "markdown",
   "id": "f884cfb4c0aad7c9",
   "metadata": {
    "collapsed": false,
    "jupyter": {
     "outputs_hidden": false
    }
   },
   "source": [
    "f. (35 points) Include your barrier.py in your zip file. We will test your code on a different problem to verify that it is correct (i.e. by changing the A,b, and c matrices). \n",
    "Do not assume the number of hyperplanes is constant. The problem will still be 2-dimensional. \n",
    "If your code does not run or crashes, you will receive 0 points for this part of the problem."
   ]
  },
  {
   "cell_type": "code",
   "execution_count": 13,
   "id": "55135877be83aaee",
   "metadata": {
    "ExecuteTime": {
     "end_time": "2024-10-03T02:51:36.474294Z",
     "start_time": "2024-10-03T02:51:36.270045Z"
    },
    "collapsed": false,
    "jupyter": {
     "outputs_hidden": false
    }
   },
   "outputs": [
    {
     "name": "stdout",
     "output_type": "stream",
     "text": [
      "OUTER loop iteration 1: Number of INNER loop iterations: 2\n",
      "\n",
      "OUTER loop iteration 2: Number of INNER loop iterations: 2\n",
      "\n",
      "OUTER loop iteration 3: Number of INNER loop iterations: 2\n",
      "\n",
      "OUTER loop iteration 4: Number of INNER loop iterations: 2\n",
      "\n",
      "OUTER loop iteration 5: Number of INNER loop iterations: 2\n",
      "\n",
      "OUTER loop iteration 6: Number of INNER loop iterations: 3\n",
      "\n",
      "OUTER loop iteration 7: Number of INNER loop iterations: 3\n",
      "\n",
      "OUTER loop iteration 8: Number of INNER loop iterations: 3\n",
      "\n",
      "OUTER loop iteration 9: Number of INNER loop iterations: 3\n",
      "\n",
      "OUTER loop iteration 10: Number of INNER loop iterations: 3\n",
      "\n",
      "OUTER loop iteration 11: Number of INNER loop iterations: 3\n",
      "\n",
      "OUTER loop iteration 12: Number of INNER loop iterations: 4\n",
      "\n",
      "OUTER loop iteration 13: Number of INNER loop iterations: 4\n",
      "\n",
      "OUTER loop iteration 14: Number of INNER loop iterations: 4\n",
      "\n",
      "OUTER loop iteration 15: Number of INNER loop iterations: 4\n",
      "\n",
      "OUTER loop iteration 16: Number of INNER loop iterations: 4\n",
      "\n",
      "OUTER loop iteration 17: Number of INNER loop iterations: 4\n",
      "\n",
      "OUTER loop iteration 18: Number of INNER loop iterations: 4\n",
      "\n",
      "OUTER loop iteration 19: Number of INNER loop iterations: 4\n",
      "\n",
      "OUTER loop iteration 20: Number of INNER loop iterations: 4\n",
      "\n",
      "OUTER loop iteration 21: Number of INNER loop iterations: 4\n",
      "\n",
      "OUTER loop iteration 22: Number of INNER loop iterations: 4\n",
      "\n",
      "OUTER loop iteration 23: Number of INNER loop iterations: 4\n",
      "\n",
      "OUTER loop iteration 24: Number of INNER loop iterations: 4\n",
      "\n",
      "OUTER loop iteration 25: Number of INNER loop iterations: 4\n",
      "\n",
      "OUTER loop iteration 26: Number of INNER loop iterations: 4\n",
      "\n",
      "OUTER loop iteration 27: Number of INNER loop iterations: 4\n",
      "\n",
      "OUTER loop iteration 28: Number of INNER loop iterations: 4\n",
      "\n",
      "The optimal point: (-1.767550, 0.353440)\n",
      "\n",
      "Total number of outer loop iterations: 28\n"
     ]
    },
    {
     "data": {
      "image/png": "[encoded data removed]",
      "text/plain": [
       "<Figure size 640x480 with 1 Axes>"
      ]
     },
     "metadata": {},
     "output_type": "display_data"
    }
   ],
   "source": [
    "%run barrier.py"
   ]
  },
  {
   "cell_type": "markdown",
   "id": "7b35c2755e19151d",
   "metadata": {
    "collapsed": false,
    "jupyter": {
     "outputs_hidden": false
    }
   },
   "source": [
    "g. (10 points) Now it’s time to verify your solution using a state-of-the art solver. \n",
    "Write a script using cvxpy to solve the same problem. You only need to give it the proper A,b, and c matrices ,and it will do the rest. \n",
    "Include your code as lptest.py in your zip. \n",
    "When we run this code it should only print out the solution, which should be the same as what you found in barrier.py\n",
    "(with accuracy up to the 2nd decimal place). See here for an example LP in cvxpy."
   ]
  },
  {
   "cell_type": "code",
   "execution_count": 14,
   "id": "5cd426178f150ef7",
   "metadata": {
    "ExecuteTime": {
     "end_time": "2024-10-03T02:51:36.884761Z",
     "start_time": "2024-10-03T02:51:36.462040Z"
    },
    "collapsed": false,
    "jupyter": {
     "outputs_hidden": false
    }
   },
   "outputs": [
    {
     "name": "stdout",
     "output_type": "stream",
     "text": [
      "\n",
      "The optimal value is -3.1820110305652545\n",
      "A solution x is\n",
      "[-1.76778391  0.35355678]\n",
      "A dual solution is\n",
      "[8.80174861e-11 7.07113563e-01 1.91363545e-10 2.12134069e+00]\n"
     ]
    }
   ],
   "source": [
    "import cvxpy as cp\n",
    "\n",
    "# Generate a random non-trivial linear program.\n",
    "A = np.array([\n",
    "        [0.7071, 0.7071],\n",
    "        [-0.7071, 0.7071],\n",
    "        [0.7071, -0.7071],\n",
    "        [-0.7071, -0.7071]])\n",
    "b = np.array([1.5, 1.5, 1, 1]).T\n",
    "c = np.array([2,1]).T\n",
    "\n",
    "# Define and solve the CVXPY problem.\n",
    "x = cp.Variable(2)\n",
    "prob = cp.Problem(cp.Minimize(c.T@x),\n",
    "                 [A @ x <= b])\n",
    "prob.solve()\n",
    "\n",
    "# Print result.\n",
    "print(\"\\nThe optimal value is\", prob.value)\n",
    "print(\"A solution x is\")\n",
    "print(x.value)\n",
    "print(\"A dual solution is\")\n",
    "print(prob.constraints[0].dual_value)"
   ]
  },
  {
   "cell_type": "markdown",
   "id": "4fa8f811b9c06e7c",
   "metadata": {
    "collapsed": false,
    "jupyter": {
     "outputs_hidden": false
    }
   },
   "source": [
    "4. Optimal control using a QP: The script carqp.py simulates driving a robot with simplified car-like dynamics. We will formulate the controller for this car as a quadratic program (QP)."
   ]
  },
  {
   "cell_type": "markdown",
   "id": "c8555ad95f748f0d",
   "metadata": {
    "collapsed": false,
    "jupyter": {
     "outputs_hidden": false
    }
   },
   "source": [
    "a. (15 points) The car has discrete-time dynamics $x_(t+1) = f (x_t, u_t)$, where $x_t$ is the state at time $t$ and $u_t$ is the control command applied at time $t$. The state is the pose of the car $[x, y, θ]^T$ and the control is $[speed, turn]^T$. The dynamics function is not convex. \n",
    "So, the first step to controlling the car with a QP is to approximate the true dynamics with a linearization. We will NOT assume that the dynamics function is known in closed form, so we must use numerical differentiation to linearize the dynamics. The linearized dynamics are of the form\n",
    "$$x_{t+1} = f(x_r, u_r) + A(x_r, u_r)[x_t - x_r] + B(x_r, u_r)[u_t - u_r]$$\n",
    "where $ A \\in \\mathbb{R}^{3 \\times 3} $ and $ B \\in \\mathbb{R}^{3 \\times 2}$. A and B are not constant matrices, rather they are computed for some reference state xr and control ur (they are a local approximation to the dynamics). Since the dynamics takes as input two vectors ($x_t$ and $u_t$), it is convenient to concatenate them to make the linearization code easier to write:\n",
    "$$A(x_r, u_r)[x_t - x_r] + B(x_r, u_r)[u_t - u_r] = [A(x_r, u_r) B(x_r, u_r)]\\begin{pmatrix}\n",
    "x_t-x_r \\\\\n",
    "u_t-u_r\n",
    "\\end{pmatrix}$$\n",
    "In fact, $[A(xr, ur) B(xr, ur)]$ is the Jacobian of f evaluated at $x_r$, $u_r$. In carqp.py, you will see the function linearize dynamics numerically, which takes as input $x_r$, $u_r$, $h$, and a function pointer to the true dynamics. Implement Newton’s difference quotient to compute the Jacobian.\n",
    "Do not compute the derivative analytically, this will receive no credit. Your code should go in the section of linearize dynamics numerically denoted by ###YOUR CODE HERE###.\n",
    "To test your implementation run python carqp.py test linearization, which will print out the A and B matrices and show the prediction error on a test example. A correct implementation will produce an error $< 10^{−10}$ for this example. We will confirm this when we run your code."
   ]
  },
  {
   "cell_type": "code",
   "execution_count": 15,
   "id": "7db2e91566748a61",
   "metadata": {
    "ExecuteTime": {
     "end_time": "2024-10-03T02:51:36.963233Z",
     "start_time": "2024-10-03T02:51:36.883423Z"
    },
    "collapsed": false,
    "jupyter": {
     "outputs_hidden": false
    }
   },
   "outputs": [
    {
     "name": "stdout",
     "output_type": "stream",
     "text": [
      "Testing linearization of dynamics for\n",
      "  Current state:\n",
      "    [0.2 0.1 0.4]\n",
      "  Reference control:\n",
      "    [0. 0.]\n",
      "  h:\n",
      "    0.01\n",
      "A:\n",
      " [[1. 0. 0.]\n",
      " [0. 1. 0.]\n",
      " [0. 0. 1.]]\n",
      "B:\n",
      " [[0.0921061  0.        ]\n",
      " [0.03894183 0.        ]\n",
      " [0.         0.1       ]]\n",
      "\n",
      "Test control:\n",
      "    [0.1 0.2]\n",
      "\n",
      "Predicted state using linearized dynamics Ax + Bu:\n",
      "   [0.20921061 0.10389418 0.42      ]\n",
      "True state (using true dynamics):\n",
      "   [0.20921061 0.10389418 0.42      ]\n",
      "Prediction error:\n",
      "   6.206335383118183e-17\n"
     ]
    },
    {
     "data": {
      "image/png": "[encoded data removed]",
      "text/plain": [
       "<Figure size 640x480 with 1 Axes>"
      ]
     },
     "metadata": {},
     "output_type": "display_data"
    }
   ],
   "source": [
    "import matplotlib.pyplot as plt\n",
    "import numpy as np\n",
    "import cvxpy as cvx\n",
    "import os.path\n",
    "import time\n",
    "import sys\n",
    "\n",
    "sys.argv = ['carqp.py', 'test_linearization']\n",
    "__file__ = 'carqp.py'\n",
    "\n",
    "SCRIPT_DIR = os.path.abspath(os.path.dirname(__file__))\n",
    "\n",
    "\n",
    "class StateIndices:\n",
    "    X = 0\n",
    "    Y = 1\n",
    "    HEADING = 2\n",
    "\n",
    "\n",
    "class ControlIndices:\n",
    "    SPEED = 0\n",
    "    TURN = 1\n",
    "\n",
    "\n",
    "class CarEnvironment:\n",
    "    \"\"\"Simplified Dubin's car environment\"\"\"\n",
    "\n",
    "    def __init__(self):\n",
    "        # plotting\n",
    "        self.fig = plt.gcf()\n",
    "        self.ax = plt.gca()\n",
    "        self.ax.set_xlim(-2, 2)\n",
    "        self.ax.set_ylim(-2, 2)\n",
    "        self.ax.set_xlabel('x')\n",
    "        self.ax.set_ylabel('y')\n",
    "        self.ax.set_aspect('equal')\n",
    "        self.car_artists = {}\n",
    "\n",
    "        self.fig.suptitle('Press Space Bar to End Run', fontsize=14, fontweight='bold')\n",
    "\n",
    "        # set up the space bar call back for ending early\n",
    "        def onpress(event):\n",
    "            global bKeepRunning\n",
    "\n",
    "            if event.key == ' ':\n",
    "                if bKeepRunning == False:\n",
    "                    # plot is already stopped, exit\n",
    "                    exit()\n",
    "                else:\n",
    "                    bKeepRunning = False\n",
    "                    print('Ending the run')\n",
    "                    # self.fig.suptitle('Press Space Bar to Close Program', fontsize=14, fontweight='bold', color='red')\n",
    "\n",
    "        self.fig.canvas.mpl_connect('key_press_event', onpress)\n",
    "\n",
    "        plt.ion()\n",
    "        #plt.show()\n",
    "        self.state_history = []\n",
    "\n",
    "    def visualize_state(self, state, name='current', color=(0, 0, 0), plot_trail=True):\n",
    "        \"\"\"Draw a state\"\"\"\n",
    "        car_artists = self.car_artists.get(name, [])\n",
    "        for artist in car_artists:\n",
    "            artist.remove()\n",
    "        car_artists = []\n",
    "\n",
    "        if plot_trail and name == 'current':\n",
    "            self.state_history.append(state)\n",
    "            xs, ys, _ = zip(*self.state_history[-2:])\n",
    "            self.ax.plot(xs, ys, c=(0, 0, 1), linestyle='dashed')\n",
    "\n",
    "        # represent car with an arrow pointing along its heading\n",
    "        arrow_length = 0.1\n",
    "        c = np.cos(state[StateIndices.HEADING])\n",
    "        s = np.sin(state[StateIndices.HEADING])\n",
    "        dx = arrow_length * c\n",
    "        dy = arrow_length * s\n",
    "        car_artists.append(\n",
    "            plt.arrow(state[StateIndices.X], state[StateIndices.Y], dx, dy, width=arrow_length / 10, ec=color, fc=color,\n",
    "                      label=name))\n",
    "\n",
    "        # plot rectangle instead of point to represent robot\n",
    "        # car_artists.append(plt.scatter(state[StateIndices.X], state[StateIndices.Y], color=c, label=name))\n",
    "        h = 0.1\n",
    "        w = 0.15\n",
    "        offset = np.array([-w / 2, -h / 2])\n",
    "        rot = np.array([[c, -s],\n",
    "                        [s, c]])\n",
    "        offset = rot @ offset\n",
    "        car_artists.append(plt.Rectangle((state[StateIndices.X] + offset[0],\n",
    "                                          state[StateIndices.Y] + offset[1]), w, h,\n",
    "                                         angle=state[StateIndices.HEADING] * 180 / np.pi,\n",
    "                                         ec=color, fc=color, fill=False))\n",
    "        self.ax.add_artist(car_artists[-1])\n",
    "\n",
    "        self.car_artists[name] = car_artists\n",
    "        if name == 'current':\n",
    "            self.ax.legend()\n",
    "        plt.pause(0.05)\n",
    "\n",
    "    def save_plot(self, filename):\n",
    "        plt.savefig(filename)\n",
    "\n",
    "    def true_dynamics(self, state, control):\n",
    "        \"\"\"x_{t+1} = f(x_t, u_t) true dynamics function of the car\"\"\"\n",
    "        \"\"\"The true dynamics should be used as a 'black box' to simulate the car motion\"\"\"\n",
    "        t = 0.1\n",
    "\n",
    "        next_state = np.copy(state)\n",
    "        next_state[StateIndices.X] += control[ControlIndices.SPEED] * t * np.cos(state[StateIndices.HEADING])\n",
    "        next_state[StateIndices.Y] += control[ControlIndices.SPEED] * t * np.sin(state[StateIndices.HEADING])\n",
    "        next_state[StateIndices.HEADING] += t * control[ControlIndices.TURN]\n",
    "        return next_state\n",
    "\n",
    "\n",
    "def linearize_dynamics_numerically(x_r, u_r, h, true_dynamics):\n",
    "    \"\"\"Numerically linearize car dynamics around reference state x_r and control u_r with parameter h\n",
    "    Linear dynamics is of the form  x_{t+1} = Ax_t + Bu_t\n",
    "    This function returns A, B\n",
    "\n",
    "    In this problem we recommend using finite differences; this should be the last resort in practice since\n",
    "    it is the least accurate, but the most robust since it can handle black box functions.\n",
    "    You should use the true dynamics as a 'black box', i.e. your method should be able to handle any \n",
    "    true_dynamics function given to it\n",
    "    \"\"\"\n",
    "\n",
    "    # wrapper around function to have it take a single vector as input\n",
    "    def f(combined_input):\n",
    "        x = combined_input[:3]\n",
    "        u = combined_input[3:]\n",
    "        return true_dynamics(x, u)\n",
    "\n",
    "    # combined reference point\n",
    "    xu_r = np.r_[x_r, u_r]\n",
    "    # function evaluated at reference point\n",
    "    f_r = f(xu_r)\n",
    "\n",
    "    m = f_r.shape[0]\n",
    "    n = xu_r.shape[0]\n",
    "    # Jacobian (m, n) where m is the output dimension, n is the input dimension\n",
    "    Jacobian = np.zeros((m, n))\n",
    "\n",
    "    # Implement Newton's difference quotient using h\n",
    "    for i in range(n):\n",
    "        # Create a small perturbation vector\n",
    "        perturbation = np.zeros(n)\n",
    "        perturbation[i] = h\n",
    "\n",
    "        # Evaluate the function at the perturbed input\n",
    "        f_perturbed = f(xu_r + perturbation)\n",
    "\n",
    "        # Compute the difference quotient for the i-th partial derivative\n",
    "        Jacobian[:, i] = (f_perturbed - f_r) / h\n",
    "\n",
    "    A = Jacobian[:, :3]  # the left half of the Jacobian is A （3*3）\n",
    "    B = Jacobian[:, 3:]  # the right half of the Jacobian is B（3*2）\n",
    "    return A, B\n",
    "\n",
    "\n",
    "def linearize_dynamics(x_r, u_r, t):\n",
    "    \"\"\"Linearize car dynamics around reference state and control with sampling time t\"\"\"\n",
    "    A = np.array([[1, 0, - u_r[ControlIndices.SPEED] * np.sin(x_r[StateIndices.HEADING]) * t],\n",
    "                  [0, 1, u_r[ControlIndices.SPEED] * np.cos(x_r[StateIndices.HEADING]) * t],\n",
    "                  [0, 0, 1]])\n",
    "    B = np.array([[np.cos(x_r[StateIndices.HEADING]) * t, 0],\n",
    "                  [np.sin(x_r[StateIndices.HEADING]) * t, 0],\n",
    "                  [0, t]])\n",
    "    return A, B\n",
    "\n",
    "\n",
    "def optimize_single_action(goal_state, current_state, reference_control, A, B, speed_limit, turn_limit):\n",
    "    \"\"\"Optimize to get the best single step action under our linear dynamics\n",
    "\n",
    "    :param A state dynamics matrix\n",
    "    :param B control dynamics matrix\n",
    "    :param speed_limit (min_speed, max_speed) for the control dimension; boundaries are allowed\n",
    "    :param turn_limit (min_turn, max_turn) where the boundaries are allowed\n",
    "    \"\"\"\n",
    "\n",
    "    # single step control\n",
    "    # define a cvx.Variable for the control\n",
    "    control = cvx.Variable(B.shape[1])\n",
    "\n",
    "    # define the control constraints and the objective, then use cvxpy to solve the QP\n",
    "    # Predicted next state using the linearized dynamics\n",
    "    next_state = A @ current_state + B @ control\n",
    "\n",
    "    # Define the objective: minimize the distance to the goal state\n",
    "    objective = cvx.Minimize(cvx.norm(goal_state - next_state, 2))\n",
    "\n",
    "    # Define the constraints for the control inputs\n",
    "    constraints = [\n",
    "        control[0] >= speed_limit[0],  # Speed lower bound\n",
    "        control[0] <= speed_limit[1],  # Speed upper bound\n",
    "        control[1] >= turn_limit[0],  # Turn rate lower bound\n",
    "        control[1] <= turn_limit[1]  # Turn rate upper bound\n",
    "    ]\n",
    "\n",
    "    # Define and solve the optimization problem\n",
    "    problem = cvx.Problem(objective, constraints)\n",
    "    problem.solve()\n",
    "\n",
    "    if control.value is not None:\n",
    "        return control.value\n",
    "    else:\n",
    "        # control has not been computed\n",
    "        return np.zeros(B.shape[1])\n",
    "\n",
    "\n",
    "def run_problem(probname, start_state, goal_state,\n",
    "                h_in=0.1, reference_control=np.array([0.5, 0.]), speed_limit=(0, 1), turn_limit=(-2, 2)):\n",
    "    global bKeepRunning\n",
    "\n",
    "    car = CarEnvironment()\n",
    "    car.visualize_state(goal_state, name='goal', color=(0, 0.7, 0), plot_trail=False)\n",
    "\n",
    "    prediction_error = []\n",
    "\n",
    "    state = start_state.copy()\n",
    "    car.visualize_state(state)\n",
    "    tol = 1e-10\n",
    "    bKeepRunning = True\n",
    "\n",
    "    MaxSteps = 40\n",
    "\n",
    "    for i in range(MaxSteps):\n",
    "        if not bKeepRunning:\n",
    "            break\n",
    "        # A, B = linearize_dynamics(state, reference_control, t=t)\n",
    "        A, B = linearize_dynamics_numerically(state, reference_control, h=h_in, true_dynamics=car.true_dynamics)\n",
    "        control = optimize_single_action(goal_state, state, reference_control, A, B, speed_limit, turn_limit)\n",
    "\n",
    "        # use our linearized dynamics to predict next state under this control\n",
    "        # predicted state should be state + (A @ state-state) + (B @ (control-reference_control)), because we linearize about the current state, which we assume is an equilibrium point and state - state = 0, we have:\n",
    "        predicted_state = state + B @ (control - reference_control)\n",
    "\n",
    "        # check that control is within bounds\n",
    "        if not (speed_limit[0] - tol < control[ControlIndices.SPEED] < speed_limit[1] + tol\n",
    "                and turn_limit[0] - tol < control[ControlIndices.TURN] < turn_limit[1] + tol):\n",
    "            raise RuntimeError(\n",
    "                \"Control is out of bounds; optimization constraints may be incorrectly set\"\n",
    "                \"\\ncontrol: {}\\nlimits: {} and {}\".format(control, speed_limit, turn_limit))\n",
    "\n",
    "        state = car.true_dynamics(state, control)\n",
    "        prediction_error.append(state - predicted_state)\n",
    "        # print(np.sum((goal_state - predicted_state)**2))\n",
    "        car.visualize_state(predicted_state, name='predicted', color=(0.7, 0, 0), plot_trail=False)\n",
    "        car.visualize_state(state)\n",
    "\n",
    "        # if control is close to 0, end\n",
    "        if np.linalg.norm(control) < tol:\n",
    "            break\n",
    "\n",
    "    bKeepRunning = False\n",
    "    car.fig.suptitle('Press Space Bar to Close Program', fontsize=14, fontweight='bold', color='red')\n",
    "    # car.save_plot(os.path.join(SCRIPT_DIR, \"{}.png\".format(name)))\n",
    "\n",
    "    print('Distance to goal:\\n', np.linalg.norm((goal_state - state)))\n",
    "\n",
    "    # prediction_error = np.stack(prediction_error)\n",
    "    # print(\"max prediction error: {}\".format(np.max(prediction_error)))\n",
    "\n",
    "\n",
    "if __name__ == \"__main__\":\n",
    "\n",
    "    args = sys.argv[1:]\n",
    "    if len(args) == 0:\n",
    "        print(\"Specify what to run:\")\n",
    "        print(\"  'python3 carqp.py test_linearization' will test the numerical linearization method\")\n",
    "        print(\"  'python3 carqp.py run_test [test index]' will run the simulation for a specific test index (0-2)\")\n",
    "        exit()\n",
    "\n",
    "    if args[0] == 'test_linearization':\n",
    "        car = CarEnvironment()\n",
    "        current_state = np.array([0.2, 0.1, 0.4])\n",
    "        reference_control = np.array([0., 0.])\n",
    "        test_control = np.array([0.1, 0.2])\n",
    "        h = 0.01\n",
    "\n",
    "        print('Testing linearization of dynamics for')\n",
    "        print('  Current state:')\n",
    "        print('   ', current_state)\n",
    "        print('  Reference control:')\n",
    "        print('   ', reference_control)\n",
    "        print('  h:')\n",
    "        print('   ', h)\n",
    "\n",
    "        A, B = linearize_dynamics_numerically(current_state, reference_control, h=h, true_dynamics=car.true_dynamics)\n",
    "        print('A:\\n', A)\n",
    "        print('B:\\n', B)\n",
    "\n",
    "        print('\\nTest control:')\n",
    "        print('   ', test_control)\n",
    "\n",
    "        # get prediction\n",
    "        predicted_nextx = current_state.T + A @ (current_state.T - current_state.T) + B @ (\n",
    "                test_control.T - reference_control.T)\n",
    "\n",
    "        # get true next state\n",
    "        true_nextx = car.true_dynamics(current_state, test_control)\n",
    "\n",
    "        print('\\nPredicted state using linearized dynamics Ax + Bu:')\n",
    "        print('  ', predicted_nextx)\n",
    "        print('True state (using true dynamics):')\n",
    "        print('  ', true_nextx)\n",
    "        print('Prediction error:')\n",
    "        print('  ', np.linalg.norm(predicted_nextx - true_nextx))\n",
    "\n",
    "        exit()\n",
    "\n",
    "    elif args[0] == 'run_test':\n",
    "        try:\n",
    "            testind = int(args[1])\n",
    "        except:\n",
    "            print(\"ERROR: Test index has not been specified\")\n",
    "            exit()\n",
    "\n",
    "        # state format is [x, y, theta]\n",
    "        start_state = np.array([0., 0., 0.])\n",
    "        goal_states = np.array([[0.6, 0.4, 1],  # test 0\n",
    "                                [0.7, -0.6, -1],  # test 1\n",
    "                                [0.8, -0.3, -1.5]])  # test 2\n",
    "\n",
    "        run_problem(testind, start_state, goal_states[testind], h_in=0.01, reference_control=np.array([0.0, 0.0]))\n",
    "\n",
    "        # wait until the plot closes \n",
    "        plt.show(block=True)\n"
   ]
  },
  {
   "cell_type": "markdown",
   "id": "fa232207b3801ca3",
   "metadata": {
    "collapsed": false,
    "jupyter": {
     "outputs_hidden": false
    }
   },
   "source": [
    "b. (20 points) Now that you have a method to linearize dynamics, we can use a QP to control the robot. The function optimize single action in carqp.py should produce the optimal control command. This function uses the cvxpy optimizer to solve the QP. Your goal is to formulate the constraints and objective function for this QP. Define these in the ###YOUR CODE HERE### block.\n",
    "The objective is to find a control command $u^∗$ that produces an $x_{t+1}$ which is as close as possible to the goal state, while obeying the constraints defined in the variables speed limit and turn limit. To simplify the problem, we will linearize about the current state $(x_t = x_r)$ and a control of $u_r = [0, 0]$. We will assume that xt is an equilibrium point, i.e. $x_t = f(x_t, [0, 0])$. The dynamics then become:\n",
    "$$x_{t+1} = x_t + A(x_r, u_r)[x_t - x_r] + B(x_r, u_r)[u_t - u_r] = x_t + B(x_r, u_r)[u_t - u_r]$$\n",
    "You will need to use these dynamics as part of your objective function.\n",
    "cvxpy is very flexible, so your constraints and objective function do not have to be in standard form. Note that this function uses linearize dynamics numerically, so make sure to complete part (a) before starting this part."
   ]
  },
  {
   "cell_type": "code",
   "execution_count": 16,
   "id": "1a9afcdc7b5c5a7c",
   "metadata": {
    "ExecuteTime": {
     "end_time": "2024-10-03T02:51:36.968716Z",
     "start_time": "2024-10-03T02:51:36.964564Z"
    },
    "collapsed": false,
    "jupyter": {
     "outputs_hidden": false
    }
   },
   "outputs": [],
   "source": [
    "#see codes"
   ]
  }
 ],
 "metadata": {
  "kernelspec": {
   "display_name": "Python 3 (ipykernel)",
   "language": "python",
   "name": "python3"
  },
  "language_info": {
   "codemirror_mode": {
    "name": "ipython",
    "version": 3
   },
   "file_extension": ".py",
   "mimetype": "text/x-python",
   "name": "python",
   "nbconvert_exporter": "python",
   "pygments_lexer": "ipython3",
   "version": "3.12.5"
  }
 },
 "nbformat": 4,
 "nbformat_minor": 5
}
