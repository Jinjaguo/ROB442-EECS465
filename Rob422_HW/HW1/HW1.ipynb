{
 "cells": [
  {
   "cell_type": "code",
   "execution_count": 16,
   "id": "initial_id",
   "metadata": {
    "ExecuteTime": {
     "end_time": "2024-09-17T03:41:18.728029Z",
     "start_time": "2024-09-17T03:41:18.683501Z"
    }
   },
   "outputs": [],
   "source": [
    "import numpy as np\n",
    "import matplotlib.pyplot as plt"
   ]
  },
  {
   "cell_type": "markdown",
   "id": "8aa8608f36d8e9c2",
   "metadata": {
    "ExecuteTime": {
     "end_time": "2024-09-16T21:56:33.932758Z",
     "start_time": "2024-09-16T21:56:33.927829Z"
    },
    "collapsed": false
   },
   "source": [
    "for homework 1, we will solve the following problems using numpy.\n",
    "\n",
    "# Problem 5.\n",
    "Solve the following systems of equations using numpy. Recall that there can be a unique\n",
    "solution, no solution, or infinitely many solutions.  \n",
    "a. \n",
    "$\n",
    "\\begin{pmatrix}\n",
    "0 & 0 & -1\\\\\n",
    "4 & 1 & 1\\\\\n",
    "-2 & 2 & 1\\\\\n",
    "\\end{pmatrix}\n",
    "x=\n",
    "\\begin{pmatrix}\n",
    "3\\\\\n",
    "1\\\\\n",
    "1\\\\\n",
    "\\end{pmatrix}\n",
    "$\n",
    "\n",
    "b.\n",
    "$\n",
    "\\begin{pmatrix}\n",
    "0 & -2 & 6\\\\\n",
    "-4 & -2 & -2\\\\\n",
    "2 & 1 & 1\\\\\n",
    "\\end{pmatrix}\n",
    "x=\n",
    "\\begin{pmatrix}\n",
    "1\\\\\n",
    "-2\\\\\n",
    "0\\\\\n",
    "\\end{pmatrix}\n",
    "$\n",
    "\n",
    "c.\n",
    "$\n",
    "\\begin{pmatrix}\n",
    "2 & -2\\\\\n",
    "-4 & 3\\\\\n",
    "\\end{pmatrix}\n",
    "x=\n",
    "\\begin{pmatrix}\n",
    "3\\\\\n",
    "-2\\\\\n",
    "\\end{pmatrix}\n",
    "$"
   ]
  },
  {
   "cell_type": "code",
   "execution_count": 17,
   "id": "f0fe1e257bf6365d",
   "metadata": {
    "collapsed": false,
    "ExecuteTime": {
     "end_time": "2024-09-17T03:41:18.749349Z",
     "start_time": "2024-09-17T03:41:18.696301Z"
    }
   },
   "outputs": [
    {
     "name": "stdout",
     "output_type": "stream",
     "text": [
      "-------------------------------------------------\n",
      "The solution of the system is:[ 0.4  2.4 -3. ]\n",
      "-------------------------------------------------\n",
      "No solution\n",
      "-------------------------------------------------\n",
      "The solution of the system is:[-2.5 -4. ]\n"
     ]
    }
   ],
   "source": [
    "def check_solution(A, b):\n",
    "    det_A = np.linalg.det(A) # determinant of A\n",
    "    \n",
    "    if det_A != 0:\n",
    "        x_sol = np.linalg.solve(A, b)\n",
    "        return 'The solution of the system is:{}'.format(x_sol)\n",
    "    \n",
    "    else:\n",
    "        aug_matrix = np.hstack((A, b.reshape(-1, 1))) # augmented matrix\n",
    "        rank_A = np.linalg.matrix_rank(A)  # calculate the rank of A\n",
    "        # check if the system has infinitely many solutions\n",
    "        rank_aug = np.linalg.matrix_rank(aug_matrix)  \n",
    "        \n",
    "        if rank_A == rank_aug:\n",
    "            return \"infinitely many solutions\"  \n",
    "        else:\n",
    "            return \"No solution\"  \n",
    "# a.\n",
    "# Define the matrices\n",
    "A_1 = np.array([[0, 0, -1], [4, 1, 1], [-2, 2, 1]])\n",
    "b_1 = np.array([3, 1, 1])\n",
    "# Solve the system\n",
    "print('-------------------------------------------------')\n",
    "print(check_solution(A_1, b_1))\n",
    "\n",
    "# b.\n",
    "# Define the matrices\n",
    "A_2 = np.array([[0, -2, 6], [-4, -2, -2], [2, 1, 1]])\n",
    "b_2 = np.array([1, -2, 0])\n",
    "# Solve the system\n",
    "print('-------------------------------------------------')\n",
    "print(check_solution(A_2, b_2))\n",
    "\n",
    "# c.\n",
    "# Define the matrices\n",
    "A_3 = np.array([[2, -2], [-4, 3]])\n",
    "b_3 = np.array([3, -2])\n",
    "# Solve the system\n",
    "print('-------------------------------------------------')\n",
    "print(check_solution(A_3, b_3))"
   ]
  },
  {
   "cell_type": "markdown",
   "id": "aa41aa464e17a07a",
   "metadata": {
    "ExecuteTime": {
     "end_time": "2024-09-16T21:56:34.479128Z",
     "start_time": "2024-09-16T21:56:34.475818Z"
    },
    "collapsed": false
   },
   "source": [
    "# Problem 6.\n",
    "Given the following matrices:\n",
    "$$\n",
    "A = \\begin{pmatrix}\n",
    "1 & 2\\\\\n",
    "3 & -1\\\\\n",
    "\\end{pmatrix}\n",
    "$$\n",
    "\n",
    "$$\n",
    "B = \\begin{pmatrix}\n",
    "-2 & -2\\\\\n",
    "4 & -3\\\\\n",
    "\\end{pmatrix}\n",
    "$$\n",
    "\n",
    "Use numpy to calculate the following.\n",
    "a. $A+2B$\n",
    "b. $AB$ and $BA$\n",
    "c. $A^T$, transpose of $A$\n",
    "d. $B^2$\n",
    "e. $A^TB^T$ and $(AB)^T$\n",
    "f. $det(A)$, determinant of $A$\n",
    "g. $B^{−1}$, inverse of $B$\n"
   ]
  },
  {
   "cell_type": "code",
   "execution_count": 18,
   "id": "a8c0f12a0faa55",
   "metadata": {
    "collapsed": false,
    "ExecuteTime": {
     "end_time": "2024-09-17T03:41:18.750185Z",
     "start_time": "2024-09-17T03:41:18.708371Z"
    }
   },
   "outputs": [
    {
     "name": "stdout",
     "output_type": "stream",
     "text": [
      "-------------------------------------------------\n",
      "A + 2B is:\n",
      " [[-3 -2]\n",
      " [11 -7]]\n",
      "-------------------------------------------------\n",
      "AB is:\n",
      " [[  6  -8]\n",
      " [-10  -3]]\n",
      "BA is:\n",
      " [[-8 -2]\n",
      " [-5 11]]\n",
      "-------------------------------------------------\n",
      "A^T is:\n",
      " [[ 1  3]\n",
      " [ 2 -1]]\n",
      "-------------------------------------------------\n",
      "B^2 is:\n",
      " [[ -4  10]\n",
      " [-20   1]]\n",
      "-------------------------------------------------\n",
      "A^TB^T is:\n",
      " [[-8 -5]\n",
      " [-2 11]]\n",
      "(AB)^T is:\n",
      " [[  6 -10]\n",
      " [ -8  -3]]\n",
      "-------------------------------------------------\n",
      "det(A) is: -7.000000000000001\n",
      "-------------------------------------------------\n",
      "B^-1 is:\n",
      " [[-0.21428571  0.14285714]\n",
      " [-0.28571429 -0.14285714]]\n"
     ]
    }
   ],
   "source": [
    "# Define the matrices\n",
    "A = np.array([[1, 2], [3, -1]])\n",
    "B = np.array([[-2, -2], [4, -3]])\n",
    "\n",
    "# a\n",
    "A_plus_2B = A + 2*B\n",
    "print('-------------------------------------------------')\n",
    "print('A + 2B is:\\n', A_plus_2B)\n",
    "\n",
    "# b\n",
    "A_dot_B = np.dot(A, B)\n",
    "B_dot_A = np.dot(B, A)\n",
    "print('-------------------------------------------------')\n",
    "print('AB is:\\n', A_dot_B)  \n",
    "print('BA is:\\n', B_dot_A)\n",
    "\n",
    "# c\n",
    "A_transpose = A.T\n",
    "print('-------------------------------------------------')\n",
    "print('A^T is:\\n', A_transpose)\n",
    "\n",
    "# d\n",
    "B_squared = np.dot(B, B)\n",
    "print('-------------------------------------------------')\n",
    "print('B^2 is:\\n', B_squared)\n",
    "\n",
    "# e\n",
    "A_dot_B_transpose = np.dot(A.T, B.T)\n",
    "A_dot_B_dot_transpose = np.dot(A, B).T\n",
    "print('-------------------------------------------------')\n",
    "print('A^TB^T is:\\n', A_dot_B_transpose)\n",
    "print('(AB)^T is:\\n', A_dot_B_dot_transpose)\n",
    "\n",
    "# f\n",
    "det_A = np.linalg.det(A)\n",
    "print('-------------------------------------------------')\n",
    "print('det(A) is:', det_A)\n",
    "\n",
    "# g\n",
    "B_inverse = np.linalg.inv(B)\n",
    "print('-------------------------------------------------')\n",
    "print('B^-1 is:\\n', B_inverse)"
   ]
  },
  {
   "cell_type": "markdown",
   "id": "58cfbf644167f108",
   "metadata": {
    "ExecuteTime": {
     "end_time": "2024-09-16T21:56:34.951563Z",
     "start_time": "2024-09-16T21:56:34.923846Z"
    },
    "collapsed": false
   },
   "source": [
    "# Problem 7.\n",
    "A rotation matrix R is defined by the following sequence of basic rotations:\n",
    "\n",
    "i. A rotation of π/2 about the z-axis\n",
    "ii. A rotation of −π/5 about the new y-axis\n",
    "iii. A rotation of π about the new z-axis"
   ]
  },
  {
   "cell_type": "code",
   "execution_count": 19,
   "id": "6c752ee6e951ed64",
   "metadata": {
    "collapsed": false,
    "ExecuteTime": {
     "end_time": "2024-09-17T03:41:18.751761Z",
     "start_time": "2024-09-17T03:41:18.715863Z"
    }
   },
   "outputs": [
    {
     "name": "stdout",
     "output_type": "stream",
     "text": [
      "The rotation matrix R is:\n",
      " [[-0.      1.     -0.    ]\n",
      " [-0.809  -0.     -0.5878]\n",
      " [-0.5878 -0.      0.809 ]]\n",
      "The determinant of R is: 1.0\n",
      "The columns of R are orthogonal: True\n"
     ]
    }
   ],
   "source": [
    "# Define the rotation matrix R\n",
    "R = np.eye(3)\n",
    "T_1 = np.array([[np.cos(np.pi/2), -np.sin(np.pi/2), 0],\n",
    "                [np.sin(np.pi/2), np.cos(np.pi/2), 0],\n",
    "                [0, 0, 1]])\n",
    "T_2 = np.array([[np.cos(-np.pi/5), 0, np.sin(-np.pi/5)],\n",
    "                [0, 1, 0],\n",
    "                [-np.sin(-np.pi/5), 0, np.cos(-np.pi/5)]])\n",
    "T_3 = np.array([[np.cos(np.pi), -np.sin(np.pi), 0],\n",
    "                [np.sin(np.pi), np.cos(np.pi), 0],\n",
    "                [0, 0, 1]])\n",
    "R_final = np.dot(np.dot(T_1, T_2),T_3)\n",
    "print('The rotation matrix R is:\\n', R_final.round(4))\n",
    "\n",
    "# Verify that the rotation matrix R is a valid rotation matrix\n",
    "# Determinant equals 1: The determinant of a valid rotation matrix must be 1\n",
    "det_R = np.linalg.det(R_final)\n",
    "print('The determinant of R is:', det_R)    \n",
    "# Orthogonality: The columns (or rows) of the rotation matrix must be orthogonal to each other, meaning that the dot product of any two distinct columns (or rows) must be zero.\n",
    "print('The columns of R are orthogonal:', np.allclose(np.dot(R_final.T, R_final), np.eye(3)))   "
   ]
  },
  {
   "cell_type": "markdown",
   "id": "2ea88a777609a69b",
   "metadata": {
    "ExecuteTime": {
     "end_time": "2024-09-16T21:56:35.375503Z",
     "start_time": "2024-09-16T21:56:35.369048Z"
    },
    "collapsed": false
   },
   "source": [
    "# Problem 8.\n",
    "You would like to point a mobile robot so that it is looking at a target point. The camera of the robot is aligned with x in the robot’s coordinate frame. The robot is assumed to be on flat ground (z = 0). The robot’s pose in the world frame is:\n",
    "\n",
    "\n",
    "$$\n",
    "T_r^0 = \\begin{pmatrix}\n",
    "\\frac{\\sqrt 2 \\quad}{2} & \\frac{\\sqrt 2 \\quad}{2} & 0 & 1.7 \\\\\n",
    "-\\frac{\\sqrt 2 \\quad}{2} & \\frac{\\sqrt 2 \\quad}{2} & 0 & 2.1 \\\\\n",
    "0 & 0 & 1 & 0\\\\\n",
    "0 & 0 & 0 & 1\n",
    "\\end{pmatrix}\n",
    "$$\n",
    "\n",
    "a. The target point is at p = [−0.4,0.9,0]' in the world frame. Assuming the robot stays at its current position, \n",
    "calculate the vector v in the world frame that the camera should align with."
   ]
  },
  {
   "cell_type": "code",
   "execution_count": 20,
   "id": "718d39e29213c965",
   "metadata": {
    "collapsed": false,
    "ExecuteTime": {
     "end_time": "2024-09-17T03:41:18.752228Z",
     "start_time": "2024-09-17T03:41:18.720336Z"
    }
   },
   "outputs": [
    {
     "name": "stdout",
     "output_type": "stream",
     "text": [
      "The vector v in the world frame that the camera should align with is: [-0.86824314 -0.49613894  0.        ]\n"
     ]
    }
   ],
   "source": [
    "# Calculate the vector v in the world frame that the camera should align with\n",
    "T_r0 = np.array([[np.sqrt(2)/2, np.sqrt(2)/2, 0, 1.7],\n",
    "                 [-np.sqrt(2)/2, np.sqrt(2)/2, 0, 2.1],\n",
    "                 [0, 0, 1, 0],\n",
    "                 [0,0,0,1]])\n",
    "\n",
    "p = np.array([-0.4, 0.9, 0]).T\n",
    "\n",
    "T_position = T_r0[:3,3]\n",
    "v = (p - T_position)/np.linalg.norm(p - T_position)\n",
    "print('The vector v in the world frame that the camera should align with is:', v)"
   ]
  },
  {
   "cell_type": "markdown",
   "id": "b77f6b8222db9c9c",
   "metadata": {
    "ExecuteTime": {
     "end_time": "2024-09-16T21:56:35.786546Z",
     "start_time": "2024-09-16T21:56:35.777710Z"
    },
    "collapsed": false
   },
   "source": [
    "b. Use v to calculate the desired pose of the robot, again assume the robot does not change position.\n",
    "The robot must remain upright on the ground; i.e. its z axis must not change."
   ]
  },
  {
   "cell_type": "code",
   "execution_count": 21,
   "id": "c449a31575e8181",
   "metadata": {
    "collapsed": false,
    "ExecuteTime": {
     "end_time": "2024-09-17T03:41:18.752868Z",
     "start_time": "2024-09-17T03:41:18.725195Z"
    }
   },
   "outputs": [
    {
     "name": "stdout",
     "output_type": "stream",
     "text": [
      "The desired pose of the robot is:\n",
      " [[-0.86824314  0.49613894  0.          1.7       ]\n",
      " [-0.49613894 -0.86824314  0.          2.1       ]\n",
      " [ 0.          0.          1.          0.        ]\n",
      " [ 0.          0.          0.          1.        ]]\n"
     ]
    }
   ],
   "source": [
    "# Calculate the desired pose of the robot\n",
    "Pose_Matrix = np.zeros((4,4))\n",
    "Pose_Matrix[:,0] = np.append(v.T,0)\n",
    "Pose_Matrix[:,2] = [0,0,1,0]\n",
    "# The y-axis can be computed as the cross product of the z-axis and the x-axis\n",
    "# Mind the order of the cross product!\n",
    "Pose_Matrix[:,1][:3] = np.cross(Pose_Matrix[:,2][:3], Pose_Matrix[:,0][:3])\n",
    "Pose_Matrix[:,3] = T_r0[:,3]\n",
    "print('The desired pose of the robot is:\\n', Pose_Matrix)"
   ]
  },
  {
   "cell_type": "markdown",
   "id": "3db48339322b80bc",
   "metadata": {
    "ExecuteTime": {
     "end_time": "2024-09-16T21:56:36.173163Z",
     "start_time": "2024-09-16T21:56:36.166650Z"
    },
    "collapsed": false
   },
   "source": [
    "c. Prove that the rotation component of the pose meets all conditions for being a valid rotationmatrix."
   ]
  },
  {
   "cell_type": "code",
   "execution_count": 22,
   "id": "5e30857f787bda76",
   "metadata": {
    "collapsed": false,
    "ExecuteTime": {
     "end_time": "2024-09-17T03:41:18.753467Z",
     "start_time": "2024-09-17T03:41:18.728707Z"
    }
   },
   "outputs": [
    {
     "name": "stdout",
     "output_type": "stream",
     "text": [
      "The rotation matrix R is:\n",
      " [[-0.86824314  0.49613894  0.        ]\n",
      " [-0.49613894 -0.86824314  0.        ]\n",
      " [ 0.          0.          1.        ]]\n",
      "The determinant of R is: 0.9999999999999999\n",
      "The columns of R are orthogonal: True\n"
     ]
    }
   ],
   "source": [
    "# Prove that the rotation component of the pose meets all conditions for being a valid rotation matrix\n",
    "R = Pose_Matrix[:3,:3]\n",
    "print('The rotation matrix R is:\\n', R)\n",
    "# Determinant equals 1: The determinant of a valid rotation matrix must be 1\n",
    "det_R = np.linalg.det(R)\n",
    "print('The determinant of R is:', det_R)\n",
    "# Orthogonality: The columns (or rows) of the rotation matrix must be orthogonal to each other, meaning that the dot product of any two distinct columns (or rows) must be zero.\n",
    "print('The columns of R are orthogonal:', np.allclose(np.dot(R.T, R), np.eye(3)))"
   ]
  },
  {
   "cell_type": "markdown",
   "id": "a786e6c7b10eb0ed",
   "metadata": {
    "ExecuteTime": {
     "end_time": "2024-09-16T21:56:36.612880Z",
     "start_time": "2024-09-16T21:56:36.605016Z"
    },
    "collapsed": false
   },
   "source": [
    "# Problem 9.\n",
    "You are testing one of the joints of a new robot arm and you notice there is some error when moving to a target position. \n",
    "To investigate, you command the joint to move through a series of positions and measure where the joint moves for each command. \n",
    "The recorded data isin calibration.txt, where the first column is the commanded position and the second column is the measured position. \n",
    "You see that there is significant error in the commanded vs. measured positions. \n",
    "Note: You are strongly advised to consult the linear algebra book, section 13.1 for this problem, especially part (c).\n",
    "a.Use the psuedo-inverse to perform a least-squares fit of a line to the data. \n",
    "Produce a plot showing the data as blue xs and the line you computed in red and include it in the pdf.\n",
    "Include the parameters of the line and the sum of squared error of the fit in your pdf. \n",
    "Submit your code as leastsquares.py to Gradescope. \n",
    "When we run the code, it should produce the plot and print out the parameter values and the sum of squared errors."
   ]
  },
  {
   "cell_type": "code",
   "execution_count": 23,
   "id": "c80b9e6dbd8aa649",
   "metadata": {
    "collapsed": false,
    "ExecuteTime": {
     "end_time": "2024-09-17T03:41:18.828462Z",
     "start_time": "2024-09-17T03:41:18.734215Z"
    }
   },
   "outputs": [
    {
     "data": {
      "text/plain": "<Figure size 640x480 with 1 Axes>",
      "image/png": "[encoded data removed]"
     },
     "metadata": {},
     "output_type": "display_data"
    },
    {
     "name": "stdout",
     "output_type": "stream",
     "text": [
      "The Slope is: 0.9025793376623379\n",
      "The Intercept is: 0.011078666666666674\n",
      "The Sum of Squared Errors is: 0.31059694806528876\n"
     ]
    }
   ],
   "source": [
    "# for Probelem a)\n",
    "# Load data from file\n",
    "data = np.loadtxt('calibration.txt')\n",
    "# Load data from file\n",
    "Commanded_data = data[:,0]\n",
    "Measured_data = data[:,1]\n",
    "# Pseudo-inverse\n",
    "A = np.vstack([Commanded_data, np.ones(Commanded_data.shape[0])]).T\n",
    "ATA = np.dot(A.T, A)\n",
    "#A_pseudo_inv = np.linalg.inv(ATA) @ A.T\n",
    "A_pseudo_inv = np.linalg.pinv(A)\n",
    "\n",
    "# Least-squares fit\n",
    "parameters = np.dot(A_pseudo_inv, Measured_data)\n",
    "\n",
    "slope = parameters[0]  # slope of the line\n",
    "intercept = parameters[1]  # intercept of the line\n",
    "\n",
    "# calculate fitted values\n",
    "fitted_values = slope * Commanded_data + intercept\n",
    "\n",
    "# Sum of Squared Errors\n",
    "squared_errors = (Measured_data - fitted_values) ** 2\n",
    "sum_of_squared_errors = np.sum(squared_errors)\n",
    "\n",
    "plt.scatter(Commanded_data, Measured_data, color='blue', label='data', marker='x')\n",
    "plt.plot(Commanded_data, fitted_values, color='red', label='fit_line')\n",
    "plt.xlabel('Commanded Data')\n",
    "plt.ylabel('Measured Data')\n",
    "plt.legend()\n",
    "plt.title('Least Squares Fit')\n",
    "plt.grid()\n",
    "plt.show()\n",
    "\n",
    "print('The Slope is:', slope)\n",
    "print('The Intercept is:', intercept)\n",
    "print('The Sum of Squared Errors is:', sum_of_squared_errors)"
   ]
  },
  {
   "cell_type": "markdown",
   "id": "c63059ca2dea8607",
   "metadata": {
    "ExecuteTime": {
     "end_time": "2024-09-16T21:56:37.118228Z",
     "start_time": "2024-09-16T21:56:37.040382Z"
    },
    "collapsed": false
   },
   "source": [
    "b. (5 points) Is this least-squares problem underdetermined or overdetermined? Explain your answer."
   ]
  },
  {
   "cell_type": "markdown",
   "id": "f005d79adeb0230a",
   "metadata": {
    "ExecuteTime": {
     "end_time": "2024-09-16T21:56:12.564967Z",
     "start_time": "2024-09-16T21:56:12.362701Z"
    },
    "collapsed": false
   },
   "source": [
    "The problem is overdetermined because the number of data points is greater than the number of parameters to be estimated. \n",
    "In this case, we have 21 data points and 2 parameters to estimate (slope and intercept). Therefore, the problem is overdetermined."
   ]
  },
  {
   "cell_type": "markdown",
   "id": "b88b66bb7865a76b",
   "metadata": {
    "collapsed": false
   },
   "source": [
    "c. (15 points) You notice that the error is quite high using a linear fit and you notice that the error seems lower in the range [-0.5, 0.5] than elsewhere. Perform a piece-wise linear least-squares fit to the data using -0.5 and 0.5 as the knotpoints. \n",
    "You should not perform perform multiple least- squares fits to different parts of the data, i.e. you should set up the whole problem as Ax = b and solve for all the parameters simultaneously.\n",
    "Produce a plot in the same format as in (a) and include it in your pdf along with the parameters you computed and the sum of squared errors. Use the parameters you computed in (c) to predict what the measured position will be when you apply the command 0.68. Include the prediction in your pdf. Submit your code as pwleastsquares.py to Gradescope. When we run the code, it should produce the plot and print out the parameter values, the sum of squared errors, and the prediction for 0.68."
   ]
  },
  {
   "cell_type": "code",
   "execution_count": 24,
   "id": "37ffa5206a147a64",
   "metadata": {
    "collapsed": false,
    "ExecuteTime": {
     "end_time": "2024-09-17T03:41:18.896329Z",
     "start_time": "2024-09-17T03:41:18.810682Z"
    }
   },
   "outputs": [
    {
     "name": "stdout",
     "output_type": "stream",
     "text": [
      "The parameters are: [-0.27277026  0.52452193  0.56375211 -0.5361319 ]\n",
      "[-0.27277026  0.52452193  0.56375211 -0.5361319 ]\n"
     ]
    },
    {
     "data": {
      "text/plain": "<Figure size 640x480 with 1 Axes>",
      "image/png": "[encoded data removed]"
     },
     "metadata": {},
     "output_type": "display_data"
    },
    {
     "name": "stdout",
     "output_type": "stream",
     "text": [
      "The Sum of Squared Errors is: 0.24330448882121877\n",
      "The predicted value for 0.68 is: 0.6526284002588031\n"
     ]
    }
   ],
   "source": [
    "# Load data from file\n",
    "data = np.loadtxt('calibration.txt')\n",
    "# Load data from file\n",
    "Commanded_data = data[:,0]\n",
    "Measured_data = data[:,1]\n",
    "\n",
    "# Piece-wise linear least-squares fit\n",
    "knotpoints = [-0.5, 0.5]\n",
    "\n",
    "# Create design matrix\n",
    "# see testbook section 13.1- piece-wise linear least-squares fit\n",
    "B = np.zeros((Commanded_data.shape[0], 4))\n",
    "B[:,0] = 1\n",
    "B[:,1] = Commanded_data\n",
    "B[:,2] = np.maximum(Commanded_data - knotpoints[0], 0)\n",
    "B[:,3] = np.maximum(Commanded_data - knotpoints[1], 0)\n",
    "\n",
    "BTB = np.dot(B.T, B)\n",
    "B_pseudo_inv = np.linalg.pinv(B)\n",
    "\n",
    "# Least-squares fit\n",
    "parameters = np.dot(B_pseudo_inv, Measured_data)\n",
    "print('The parameters are:', parameters)\n",
    "print(parameters)\n",
    "\n",
    "# calculate fitted values\n",
    "fitted_values = np.dot(B, parameters)\n",
    "#print(fitted_values)\n",
    "\n",
    "# Sum of Squared Errors\n",
    "squared_errors = (Measured_data - fitted_values) ** 2\n",
    "sum_of_squared_errors = np.sum(squared_errors)\n",
    "\n",
    "plt.scatter(Commanded_data, Measured_data, color='blue', label='data', marker='x')\n",
    "plt.plot(Commanded_data, fitted_values, color='red', label='fit_line')\n",
    "plt.xlabel('Commanded Data')\n",
    "plt.ylabel('Measured Data')\n",
    "plt.legend()\n",
    "plt.title('Least Squares Fit')\n",
    "plt.grid()\n",
    "plt.show()\n",
    "\n",
    "print('The Sum of Squared Errors is:', sum_of_squared_errors)\n",
    "\n",
    "# Predicted value for 0.68\n",
    "predicted_value = parameters[0] + parameters[1] * 0.68 + parameters[2] * np.maximum(0.68 - knotpoints[0], 0) + parameters[3] * np.maximum(0.68 - knotpoints[1], 0)\n",
    "print('The predicted value for 0.68 is:', predicted_value)"
   ]
  }
 ],
 "metadata": {
  "kernelspec": {
   "display_name": "Python 3 (ipykernel)",
   "language": "python",
   "name": "python3"
  },
  "language_info": {
   "codemirror_mode": {
    "name": "ipython",
    "version": 3
   },
   "file_extension": ".py",
   "mimetype": "text/x-python",
   "name": "python",
   "nbconvert_exporter": "python",
   "pygments_lexer": "ipython3",
   "version": "3.12.5"
  }
 },
 "nbformat": 4,
 "nbformat_minor": 5
}
